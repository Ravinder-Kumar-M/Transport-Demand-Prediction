{
  "cells": [
    {
      "cell_type": "markdown",
      "metadata": {
        "id": "xyoavgvdEF9U"
      },
      "source": [
        "# <b><u> Project Title : Traffic Jam: Predicting People's Movement into Nairobi </u></b>"
      ]
    },
    {
      "cell_type": "markdown",
      "metadata": {
        "id": "IxRCojU6EJhW"
      },
      "source": [
        "## <b> Problem Description </b>\n",
        "\n",
        "### This challenge asks you to build a model that predicts the number of seats that Mobiticket can expect to sell for each ride, i.e. for a specific route on a specific date and time. There are 14 routes in this dataset. All of the routes end in Nairobi and originate in towns to the North-West of Nairobi towards Lake Victoria.\n",
        "\n",
        "\n",
        "### The towns from which these routes originate are:\n",
        "\n",
        "* Awendo\n",
        "* Homa Bay\n",
        "* Kehancha\n",
        "* Kendu Bay\n",
        "* Keroka\n",
        "* Keumbu\n",
        "* Kijauri\n",
        "* Kisii\n",
        "* Mbita\n",
        "* Migori\n",
        "* Ndhiwa\n",
        "* Nyachenge\n",
        "* Oyugis\n",
        "* Rodi\n",
        "* Rongo\n",
        "* Sirare\n",
        "* Sori\n",
        "\n",
        "### The routes from these 14 origins to the first stop in the outskirts of Nairobi takes approximately 8 to 9 hours from time of departure. From the first stop in the outskirts of Nairobi into the main bus terminal, where most passengers get off, in Central Business District, takes another 2 to 3 hours depending on traffic.\n",
        "\n",
        "### The three stops that all these routes make in Nairobi (in order) are:\n",
        "\n",
        "1. Kawangware: the first stop in the outskirts of Nairobi\n",
        "2. Westlands\n",
        "3. Afya Centre: the main bus terminal where most passengers disembark\n",
        "\n",
        "### All of these points are mapped [here](https://www.google.com/maps/d/viewer?mid=1Ef2pFdP8keVHHid8bwju2raoRvjOGagN&ll=-0.8281897101491997%2C35.51706279999996&z=8).\n",
        "\n",
        "### Passengers of these bus (or shuttle) rides are affected by Nairobi traffic not only during their ride into the city, but from there they must continue their journey to their final destination in Nairobi wherever that may be. Traffic can act as a deterrent for those who have the option to avoid buses that arrive in Nairobi during peak traffic hours. On the other hand, traffic may be an indication for people’s movement patterns, reflecting business hours, cultural events, political events, and holidays."
      ]
    },
    {
      "cell_type": "code",
      "execution_count": 2,
      "metadata": {
        "id": "AqQHz6AiDhQc"
      },
      "outputs": [],
      "source": [
        "##importing libraries\n",
        "import numpy as np\n",
        "import pandas as pd\n",
        "import matplotlib.pyplot as plt\n",
        "import seaborn as sns\n",
        "sns.set_style(\"darkgrid\")\n",
        "\n",
        "import warnings\n",
        "warnings.filterwarnings('ignore')"
      ]
    },
    {
      "cell_type": "code",
      "execution_count": 3,
      "metadata": {
        "id": "OmR7gu9JEND-"
      },
      "outputs": [],
      "source": [
        "pd.set_option('display.max_columns', None)"
      ]
    },
    {
      "cell_type": "code",
      "execution_count": 4,
      "metadata": {
        "colab": {
          "base_uri": "https://localhost:8080/"
        },
        "id": "YAlGztVjEOSk",
        "outputId": "afef8005-d386-46db-e85b-8201e4be3753"
      },
      "outputs": [
        {
          "output_type": "stream",
          "name": "stdout",
          "text": [
            "Mounted at /content/drive\n"
          ]
        }
      ],
      "source": [
        "from google.colab import drive\n",
        "drive.mount('/content/drive')"
      ]
    },
    {
      "cell_type": "code",
      "execution_count": 5,
      "metadata": {
        "id": "hp0Eji3DEPlH"
      },
      "outputs": [],
      "source": [
        "dataset = pd.read_csv('/content/drive/MyDrive/AlmaBetter/Capstons Projects/Supervised ML (Regression) - Capstone Project/train_revised.csv')"
      ]
    },
    {
      "cell_type": "code",
      "execution_count": 6,
      "metadata": {
        "colab": {
          "base_uri": "https://localhost:8080/",
          "height": 206
        },
        "id": "tkiIwQ4rEX3j",
        "outputId": "4483bd72-6069-464b-9619-ff256ff9140c"
      },
      "outputs": [
        {
          "output_type": "execute_result",
          "data": {
            "text/plain": [
              "   ride_id seat_number payment_method payment_receipt travel_date travel_time  \\\n",
              "0     1442         15A          Mpesa      UZUEHCBUSO    17-10-17        7:15   \n",
              "1     5437         14A          Mpesa      TIHLBUSGTE    19-11-17        7:12   \n",
              "2     5710          8B          Mpesa      EQX8Q5G19O    26-11-17        7:05   \n",
              "3     5777         19A          Mpesa      SGP18CL0ME    27-11-17        7:10   \n",
              "4     5778         11A          Mpesa      BM97HFRGL9    27-11-17        7:12   \n",
              "\n",
              "  travel_from travel_to car_type  max_capacity  \n",
              "0      Migori   Nairobi      Bus            49  \n",
              "1      Migori   Nairobi      Bus            49  \n",
              "2      Keroka   Nairobi      Bus            49  \n",
              "3    Homa Bay   Nairobi      Bus            49  \n",
              "4      Migori   Nairobi      Bus            49  "
            ],
            "text/html": [
              "\n",
              "  <div id=\"df-01305db2-4451-4c03-9518-1feebbd2a3be\">\n",
              "    <div class=\"colab-df-container\">\n",
              "      <div>\n",
              "<style scoped>\n",
              "    .dataframe tbody tr th:only-of-type {\n",
              "        vertical-align: middle;\n",
              "    }\n",
              "\n",
              "    .dataframe tbody tr th {\n",
              "        vertical-align: top;\n",
              "    }\n",
              "\n",
              "    .dataframe thead th {\n",
              "        text-align: right;\n",
              "    }\n",
              "</style>\n",
              "<table border=\"1\" class=\"dataframe\">\n",
              "  <thead>\n",
              "    <tr style=\"text-align: right;\">\n",
              "      <th></th>\n",
              "      <th>ride_id</th>\n",
              "      <th>seat_number</th>\n",
              "      <th>payment_method</th>\n",
              "      <th>payment_receipt</th>\n",
              "      <th>travel_date</th>\n",
              "      <th>travel_time</th>\n",
              "      <th>travel_from</th>\n",
              "      <th>travel_to</th>\n",
              "      <th>car_type</th>\n",
              "      <th>max_capacity</th>\n",
              "    </tr>\n",
              "  </thead>\n",
              "  <tbody>\n",
              "    <tr>\n",
              "      <th>0</th>\n",
              "      <td>1442</td>\n",
              "      <td>15A</td>\n",
              "      <td>Mpesa</td>\n",
              "      <td>UZUEHCBUSO</td>\n",
              "      <td>17-10-17</td>\n",
              "      <td>7:15</td>\n",
              "      <td>Migori</td>\n",
              "      <td>Nairobi</td>\n",
              "      <td>Bus</td>\n",
              "      <td>49</td>\n",
              "    </tr>\n",
              "    <tr>\n",
              "      <th>1</th>\n",
              "      <td>5437</td>\n",
              "      <td>14A</td>\n",
              "      <td>Mpesa</td>\n",
              "      <td>TIHLBUSGTE</td>\n",
              "      <td>19-11-17</td>\n",
              "      <td>7:12</td>\n",
              "      <td>Migori</td>\n",
              "      <td>Nairobi</td>\n",
              "      <td>Bus</td>\n",
              "      <td>49</td>\n",
              "    </tr>\n",
              "    <tr>\n",
              "      <th>2</th>\n",
              "      <td>5710</td>\n",
              "      <td>8B</td>\n",
              "      <td>Mpesa</td>\n",
              "      <td>EQX8Q5G19O</td>\n",
              "      <td>26-11-17</td>\n",
              "      <td>7:05</td>\n",
              "      <td>Keroka</td>\n",
              "      <td>Nairobi</td>\n",
              "      <td>Bus</td>\n",
              "      <td>49</td>\n",
              "    </tr>\n",
              "    <tr>\n",
              "      <th>3</th>\n",
              "      <td>5777</td>\n",
              "      <td>19A</td>\n",
              "      <td>Mpesa</td>\n",
              "      <td>SGP18CL0ME</td>\n",
              "      <td>27-11-17</td>\n",
              "      <td>7:10</td>\n",
              "      <td>Homa Bay</td>\n",
              "      <td>Nairobi</td>\n",
              "      <td>Bus</td>\n",
              "      <td>49</td>\n",
              "    </tr>\n",
              "    <tr>\n",
              "      <th>4</th>\n",
              "      <td>5778</td>\n",
              "      <td>11A</td>\n",
              "      <td>Mpesa</td>\n",
              "      <td>BM97HFRGL9</td>\n",
              "      <td>27-11-17</td>\n",
              "      <td>7:12</td>\n",
              "      <td>Migori</td>\n",
              "      <td>Nairobi</td>\n",
              "      <td>Bus</td>\n",
              "      <td>49</td>\n",
              "    </tr>\n",
              "  </tbody>\n",
              "</table>\n",
              "</div>\n",
              "      <button class=\"colab-df-convert\" onclick=\"convertToInteractive('df-01305db2-4451-4c03-9518-1feebbd2a3be')\"\n",
              "              title=\"Convert this dataframe to an interactive table.\"\n",
              "              style=\"display:none;\">\n",
              "        \n",
              "  <svg xmlns=\"http://www.w3.org/2000/svg\" height=\"24px\"viewBox=\"0 0 24 24\"\n",
              "       width=\"24px\">\n",
              "    <path d=\"M0 0h24v24H0V0z\" fill=\"none\"/>\n",
              "    <path d=\"M18.56 5.44l.94 2.06.94-2.06 2.06-.94-2.06-.94-.94-2.06-.94 2.06-2.06.94zm-11 1L8.5 8.5l.94-2.06 2.06-.94-2.06-.94L8.5 2.5l-.94 2.06-2.06.94zm10 10l.94 2.06.94-2.06 2.06-.94-2.06-.94-.94-2.06-.94 2.06-2.06.94z\"/><path d=\"M17.41 7.96l-1.37-1.37c-.4-.4-.92-.59-1.43-.59-.52 0-1.04.2-1.43.59L10.3 9.45l-7.72 7.72c-.78.78-.78 2.05 0 2.83L4 21.41c.39.39.9.59 1.41.59.51 0 1.02-.2 1.41-.59l7.78-7.78 2.81-2.81c.8-.78.8-2.07 0-2.86zM5.41 20L4 18.59l7.72-7.72 1.47 1.35L5.41 20z\"/>\n",
              "  </svg>\n",
              "      </button>\n",
              "      \n",
              "  <style>\n",
              "    .colab-df-container {\n",
              "      display:flex;\n",
              "      flex-wrap:wrap;\n",
              "      gap: 12px;\n",
              "    }\n",
              "\n",
              "    .colab-df-convert {\n",
              "      background-color: #E8F0FE;\n",
              "      border: none;\n",
              "      border-radius: 50%;\n",
              "      cursor: pointer;\n",
              "      display: none;\n",
              "      fill: #1967D2;\n",
              "      height: 32px;\n",
              "      padding: 0 0 0 0;\n",
              "      width: 32px;\n",
              "    }\n",
              "\n",
              "    .colab-df-convert:hover {\n",
              "      background-color: #E2EBFA;\n",
              "      box-shadow: 0px 1px 2px rgba(60, 64, 67, 0.3), 0px 1px 3px 1px rgba(60, 64, 67, 0.15);\n",
              "      fill: #174EA6;\n",
              "    }\n",
              "\n",
              "    [theme=dark] .colab-df-convert {\n",
              "      background-color: #3B4455;\n",
              "      fill: #D2E3FC;\n",
              "    }\n",
              "\n",
              "    [theme=dark] .colab-df-convert:hover {\n",
              "      background-color: #434B5C;\n",
              "      box-shadow: 0px 1px 3px 1px rgba(0, 0, 0, 0.15);\n",
              "      filter: drop-shadow(0px 1px 2px rgba(0, 0, 0, 0.3));\n",
              "      fill: #FFFFFF;\n",
              "    }\n",
              "  </style>\n",
              "\n",
              "      <script>\n",
              "        const buttonEl =\n",
              "          document.querySelector('#df-01305db2-4451-4c03-9518-1feebbd2a3be button.colab-df-convert');\n",
              "        buttonEl.style.display =\n",
              "          google.colab.kernel.accessAllowed ? 'block' : 'none';\n",
              "\n",
              "        async function convertToInteractive(key) {\n",
              "          const element = document.querySelector('#df-01305db2-4451-4c03-9518-1feebbd2a3be');\n",
              "          const dataTable =\n",
              "            await google.colab.kernel.invokeFunction('convertToInteractive',\n",
              "                                                     [key], {});\n",
              "          if (!dataTable) return;\n",
              "\n",
              "          const docLinkHtml = 'Like what you see? Visit the ' +\n",
              "            '<a target=\"_blank\" href=https://colab.research.google.com/notebooks/data_table.ipynb>data table notebook</a>'\n",
              "            + ' to learn more about interactive tables.';\n",
              "          element.innerHTML = '';\n",
              "          dataTable['output_type'] = 'display_data';\n",
              "          await google.colab.output.renderOutput(dataTable, element);\n",
              "          const docLink = document.createElement('div');\n",
              "          docLink.innerHTML = docLinkHtml;\n",
              "          element.appendChild(docLink);\n",
              "        }\n",
              "      </script>\n",
              "    </div>\n",
              "  </div>\n",
              "  "
            ]
          },
          "metadata": {},
          "execution_count": 6
        }
      ],
      "source": [
        "dataset.head()"
      ]
    },
    {
      "cell_type": "code",
      "execution_count": 7,
      "metadata": {
        "colab": {
          "base_uri": "https://localhost:8080/"
        },
        "id": "_ZnoPb-AEbzx",
        "outputId": "caabef1a-8805-4162-f4cd-ab75e9d4f61a"
      },
      "outputs": [
        {
          "output_type": "execute_result",
          "data": {
            "text/plain": [
              "(51645, 10)"
            ]
          },
          "metadata": {},
          "execution_count": 7
        }
      ],
      "source": [
        "#Shape\n",
        "dataset.shape"
      ]
    },
    {
      "cell_type": "markdown",
      "metadata": {
        "id": "2fYR9BzVEh6_"
      },
      "source": [
        "Since the target Variable is not provided, So we should have to generate it."
      ]
    },
    {
      "cell_type": "code",
      "execution_count": 8,
      "metadata": {
        "id": "Wt5fpCLvEeVb"
      },
      "outputs": [],
      "source": [
        "num_of_seats = dataset.groupby(['ride_id'])['seat_number'].count()"
      ]
    },
    {
      "cell_type": "code",
      "execution_count": 9,
      "metadata": {
        "id": "NZoBd8ucEjvR"
      },
      "outputs": [],
      "source": [
        "num_of_seats = num_of_seats.reset_index().rename(columns= {'seat_number': 'number_of_tickets'})"
      ]
    },
    {
      "cell_type": "code",
      "execution_count": 10,
      "metadata": {
        "id": "4bRYLv22Epjr"
      },
      "outputs": [],
      "source": [
        "dataset = dataset.merge(num_of_seats, how='left', on='ride_id')"
      ]
    },
    {
      "cell_type": "code",
      "execution_count": 11,
      "metadata": {
        "colab": {
          "base_uri": "https://localhost:8080/"
        },
        "id": "2_hr39YaErRc",
        "outputId": "13920fd5-3ff5-49a8-90ea-b568fc9f4159"
      },
      "outputs": [
        {
          "output_type": "execute_result",
          "data": {
            "text/plain": [
              "(51645, 11)"
            ]
          },
          "metadata": {},
          "execution_count": 11
        }
      ],
      "source": [
        "dataset.shape"
      ]
    },
    {
      "cell_type": "markdown",
      "metadata": {
        "id": "9ceg9N_PEyPG"
      },
      "source": [
        "Now our Data has 11 columns"
      ]
    },
    {
      "cell_type": "code",
      "execution_count": 12,
      "metadata": {
        "colab": {
          "base_uri": "https://localhost:8080/"
        },
        "id": "n2q7lTwPEtAe",
        "outputId": "f6747bbc-c000-454b-f341-be77e89c2361"
      },
      "outputs": [
        {
          "output_type": "stream",
          "name": "stdout",
          "text": [
            "<class 'pandas.core.frame.DataFrame'>\n",
            "Int64Index: 51645 entries, 0 to 51644\n",
            "Data columns (total 11 columns):\n",
            " #   Column             Non-Null Count  Dtype \n",
            "---  ------             --------------  ----- \n",
            " 0   ride_id            51645 non-null  int64 \n",
            " 1   seat_number        51645 non-null  object\n",
            " 2   payment_method     51645 non-null  object\n",
            " 3   payment_receipt    51645 non-null  object\n",
            " 4   travel_date        51645 non-null  object\n",
            " 5   travel_time        51645 non-null  object\n",
            " 6   travel_from        51645 non-null  object\n",
            " 7   travel_to          51645 non-null  object\n",
            " 8   car_type           51645 non-null  object\n",
            " 9   max_capacity       51645 non-null  int64 \n",
            " 10  number_of_tickets  51645 non-null  int64 \n",
            "dtypes: int64(3), object(8)\n",
            "memory usage: 4.7+ MB\n"
          ]
        }
      ],
      "source": [
        "#getting some information about the variables\n",
        "dataset.info()"
      ]
    },
    {
      "cell_type": "code",
      "execution_count": 13,
      "metadata": {
        "colab": {
          "base_uri": "https://localhost:8080/"
        },
        "id": "-IiVnLn_E31p",
        "outputId": "af864b40-85c5-4daa-d3fa-9945a5c50db8"
      },
      "outputs": [
        {
          "output_type": "execute_result",
          "data": {
            "text/plain": [
              "ride_id              0\n",
              "seat_number          0\n",
              "payment_method       0\n",
              "payment_receipt      0\n",
              "travel_date          0\n",
              "travel_time          0\n",
              "travel_from          0\n",
              "travel_to            0\n",
              "car_type             0\n",
              "max_capacity         0\n",
              "number_of_tickets    0\n",
              "dtype: int64"
            ]
          },
          "metadata": {},
          "execution_count": 13
        }
      ],
      "source": [
        "dataset.isna().sum()"
      ]
    },
    {
      "cell_type": "markdown",
      "metadata": {
        "id": "LPV79Q_yE-G1"
      },
      "source": [
        "I remove 'payment_receipt' to find to find duplicated values"
      ]
    },
    {
      "cell_type": "code",
      "execution_count": 14,
      "metadata": {
        "id": "H3L1ua-FE6sF"
      },
      "outputs": [],
      "source": [
        "dataset = dataset.drop('payment_receipt', axis=1)"
      ]
    },
    {
      "cell_type": "code",
      "execution_count": 15,
      "metadata": {
        "colab": {
          "base_uri": "https://localhost:8080/"
        },
        "id": "lnpNphb-E_zR",
        "outputId": "13bf769a-a91c-4dd5-9a05-f093e074395c"
      },
      "outputs": [
        {
          "output_type": "execute_result",
          "data": {
            "text/plain": [
              "169"
            ]
          },
          "metadata": {},
          "execution_count": 15
        }
      ],
      "source": [
        "dataset.duplicated().sum()"
      ]
    },
    {
      "cell_type": "code",
      "execution_count": 16,
      "metadata": {
        "id": "jrZEgZjwFBMq"
      },
      "outputs": [],
      "source": [
        "dataset = dataset.drop_duplicates()"
      ]
    },
    {
      "cell_type": "markdown",
      "metadata": {
        "id": "6jc5WBV0FHLT"
      },
      "source": [
        "Since there are No null and duplicate Observations"
      ]
    },
    {
      "cell_type": "markdown",
      "metadata": {
        "id": "IujVV5b7FxZG"
      },
      "source": [
        "####**Feature Engineering**\n",
        "\n",
        "---\n",
        "\n",
        "I generate two new varibles travel_day, travel_month to identify the traveling time on the monthaly & daily basses.\n",
        "And i also convert traveling time in hours to minutes.\n",
        "\n",
        "\n",
        "*   After creating travel_month and travel_day i drop travel_date.\n",
        "\n",
        "\n"
      ]
    },
    {
      "cell_type": "code",
      "source": [
        "dataset['travel_date'] = pd.to_datetime(dataset['travel_date'])\n",
        "dataset['month'] = dataset['travel_date'].dt.month\n",
        "dataset['day_of_year'] = dataset['travel_date'].dt.dayofyear\n",
        "dataset['day_of_month'] = dataset['travel_date'].dt.day\n",
        "dataset['day_of_week'] = dataset['travel_date'].dt.dayofweek\n",
        "\n",
        "\n",
        "dataset['travel_time'] = pd.to_datetime(dataset['travel_time'])\n",
        "dataset['hour'] = dataset['travel_time'].dt.hour\n",
        "dataset['minutes'] = dataset['travel_time'].dt.minute\n",
        "dataset['period'] = dataset['travel_time'].dt.hour + dataset['travel_time'].dt.minute/ 60\n",
        "\n",
        "dataset['period'] = dataset['period'].apply(lambda x: 'em' if x< 7 else('am' if x< 11 else('md' if x<2 else ('ev' if x<6 else 'pm'))))"
      ],
      "metadata": {
        "id": "xpoMrhHVn5e3"
      },
      "execution_count": 17,
      "outputs": []
    },
    {
      "cell_type": "markdown",
      "source": [
        "Now let us find the distance of each origin point from the distination point. I used Nirobi Map to estimate the distance from origin point to destination map."
      ],
      "metadata": {
        "id": "2F8HxB67oFLR"
      }
    },
    {
      "cell_type": "code",
      "source": [
        "#Travel Distance\n",
        "distance = {'Migori': 370 , 'Keroka': 280, 'Homa Bay':360, 'Kisii':305.1, 'Keumbu':295, 'Rongo':332,\n",
        "'Kijauri':271, 'Oyugis':330.6, 'Awendo':351, 'Sirare':392, 'Nyachenge':326, 'Kehancha': 387.7,\n",
        "'Kendu Bay':347, 'Sori':399, 'Rodi':348, 'Mbita':401, 'Ndhiwa': 371}\n",
        "dataset[\"travel_from_distance\"] = dataset.travel_from.map(distance)\n",
        "\n",
        "#Travel Timing\n",
        "time = {'Migori': 7*60+8 , 'Keroka': 5*60, 'Homa Bay':7*60, 'Kisii':5*60+34, 'Keumbu':5*60+20, 'Rongo':6*60+21,\n",
        "'Kijauri':60*4+50,'Oyugis':5*60+50, 'Awendo':6*60+38, 'Sirare':7*60+30, 'Nyachenge':6*60+10, 'Kehancha':7*60+10,\n",
        "'Kendu Bay':6*60+10, 'Sori':7*60+30, 'Rodi':6*60+40, 'Mbita':7*60+23, 'Ndhiwa': 7*60}\n",
        "\n",
        "dataset[\"travel_from_time\"]=dataset.travel_from.map(time)\n",
        "\n",
        "#Travel Speed\n",
        "dataset[\"Speed\"] = dataset.travel_from_time/dataset.travel_from_distance"
      ],
      "metadata": {
        "id": "_0MyDJSWoMH6"
      },
      "execution_count": 18,
      "outputs": []
    },
    {
      "cell_type": "code",
      "execution_count": 19,
      "metadata": {
        "colab": {
          "base_uri": "https://localhost:8080/",
          "height": 357
        },
        "id": "VLlpwFz2F9Z-",
        "outputId": "28d3c217-4309-40f3-a4e1-12577d1f83c0"
      },
      "outputs": [
        {
          "output_type": "execute_result",
          "data": {
            "text/plain": [
              "   ride_id seat_number payment_method travel_date         travel_time  \\\n",
              "0     1442         15A          Mpesa  2017-10-17 2022-11-20 07:15:00   \n",
              "1     5437         14A          Mpesa  2017-11-19 2022-11-20 07:12:00   \n",
              "2     5710          8B          Mpesa  2017-11-26 2022-11-20 07:05:00   \n",
              "3     5777         19A          Mpesa  2017-11-27 2022-11-20 07:10:00   \n",
              "4     5778         11A          Mpesa  2017-11-27 2022-11-20 07:12:00   \n",
              "\n",
              "  travel_from travel_to car_type  max_capacity  number_of_tickets  month  \\\n",
              "0      Migori   Nairobi      Bus            49                  1     10   \n",
              "1      Migori   Nairobi      Bus            49                  1     11   \n",
              "2      Keroka   Nairobi      Bus            49                  1     11   \n",
              "3    Homa Bay   Nairobi      Bus            49                  5     11   \n",
              "4      Migori   Nairobi      Bus            49                 31     11   \n",
              "\n",
              "   day_of_year  day_of_month  day_of_week  hour  minutes period  \\\n",
              "0          290            17            1     7       15     am   \n",
              "1          323            19            6     7       12     am   \n",
              "2          330            26            6     7        5     am   \n",
              "3          331            27            0     7       10     am   \n",
              "4          331            27            0     7       12     am   \n",
              "\n",
              "   travel_from_distance  travel_from_time     Speed  \n",
              "0                 370.0               428  1.156757  \n",
              "1                 370.0               428  1.156757  \n",
              "2                 280.0               300  1.071429  \n",
              "3                 360.0               420  1.166667  \n",
              "4                 370.0               428  1.156757  "
            ],
            "text/html": [
              "\n",
              "  <div id=\"df-fa259cab-a544-4351-83d8-b36dd46e3a53\">\n",
              "    <div class=\"colab-df-container\">\n",
              "      <div>\n",
              "<style scoped>\n",
              "    .dataframe tbody tr th:only-of-type {\n",
              "        vertical-align: middle;\n",
              "    }\n",
              "\n",
              "    .dataframe tbody tr th {\n",
              "        vertical-align: top;\n",
              "    }\n",
              "\n",
              "    .dataframe thead th {\n",
              "        text-align: right;\n",
              "    }\n",
              "</style>\n",
              "<table border=\"1\" class=\"dataframe\">\n",
              "  <thead>\n",
              "    <tr style=\"text-align: right;\">\n",
              "      <th></th>\n",
              "      <th>ride_id</th>\n",
              "      <th>seat_number</th>\n",
              "      <th>payment_method</th>\n",
              "      <th>travel_date</th>\n",
              "      <th>travel_time</th>\n",
              "      <th>travel_from</th>\n",
              "      <th>travel_to</th>\n",
              "      <th>car_type</th>\n",
              "      <th>max_capacity</th>\n",
              "      <th>number_of_tickets</th>\n",
              "      <th>month</th>\n",
              "      <th>day_of_year</th>\n",
              "      <th>day_of_month</th>\n",
              "      <th>day_of_week</th>\n",
              "      <th>hour</th>\n",
              "      <th>minutes</th>\n",
              "      <th>period</th>\n",
              "      <th>travel_from_distance</th>\n",
              "      <th>travel_from_time</th>\n",
              "      <th>Speed</th>\n",
              "    </tr>\n",
              "  </thead>\n",
              "  <tbody>\n",
              "    <tr>\n",
              "      <th>0</th>\n",
              "      <td>1442</td>\n",
              "      <td>15A</td>\n",
              "      <td>Mpesa</td>\n",
              "      <td>2017-10-17</td>\n",
              "      <td>2022-11-20 07:15:00</td>\n",
              "      <td>Migori</td>\n",
              "      <td>Nairobi</td>\n",
              "      <td>Bus</td>\n",
              "      <td>49</td>\n",
              "      <td>1</td>\n",
              "      <td>10</td>\n",
              "      <td>290</td>\n",
              "      <td>17</td>\n",
              "      <td>1</td>\n",
              "      <td>7</td>\n",
              "      <td>15</td>\n",
              "      <td>am</td>\n",
              "      <td>370.0</td>\n",
              "      <td>428</td>\n",
              "      <td>1.156757</td>\n",
              "    </tr>\n",
              "    <tr>\n",
              "      <th>1</th>\n",
              "      <td>5437</td>\n",
              "      <td>14A</td>\n",
              "      <td>Mpesa</td>\n",
              "      <td>2017-11-19</td>\n",
              "      <td>2022-11-20 07:12:00</td>\n",
              "      <td>Migori</td>\n",
              "      <td>Nairobi</td>\n",
              "      <td>Bus</td>\n",
              "      <td>49</td>\n",
              "      <td>1</td>\n",
              "      <td>11</td>\n",
              "      <td>323</td>\n",
              "      <td>19</td>\n",
              "      <td>6</td>\n",
              "      <td>7</td>\n",
              "      <td>12</td>\n",
              "      <td>am</td>\n",
              "      <td>370.0</td>\n",
              "      <td>428</td>\n",
              "      <td>1.156757</td>\n",
              "    </tr>\n",
              "    <tr>\n",
              "      <th>2</th>\n",
              "      <td>5710</td>\n",
              "      <td>8B</td>\n",
              "      <td>Mpesa</td>\n",
              "      <td>2017-11-26</td>\n",
              "      <td>2022-11-20 07:05:00</td>\n",
              "      <td>Keroka</td>\n",
              "      <td>Nairobi</td>\n",
              "      <td>Bus</td>\n",
              "      <td>49</td>\n",
              "      <td>1</td>\n",
              "      <td>11</td>\n",
              "      <td>330</td>\n",
              "      <td>26</td>\n",
              "      <td>6</td>\n",
              "      <td>7</td>\n",
              "      <td>5</td>\n",
              "      <td>am</td>\n",
              "      <td>280.0</td>\n",
              "      <td>300</td>\n",
              "      <td>1.071429</td>\n",
              "    </tr>\n",
              "    <tr>\n",
              "      <th>3</th>\n",
              "      <td>5777</td>\n",
              "      <td>19A</td>\n",
              "      <td>Mpesa</td>\n",
              "      <td>2017-11-27</td>\n",
              "      <td>2022-11-20 07:10:00</td>\n",
              "      <td>Homa Bay</td>\n",
              "      <td>Nairobi</td>\n",
              "      <td>Bus</td>\n",
              "      <td>49</td>\n",
              "      <td>5</td>\n",
              "      <td>11</td>\n",
              "      <td>331</td>\n",
              "      <td>27</td>\n",
              "      <td>0</td>\n",
              "      <td>7</td>\n",
              "      <td>10</td>\n",
              "      <td>am</td>\n",
              "      <td>360.0</td>\n",
              "      <td>420</td>\n",
              "      <td>1.166667</td>\n",
              "    </tr>\n",
              "    <tr>\n",
              "      <th>4</th>\n",
              "      <td>5778</td>\n",
              "      <td>11A</td>\n",
              "      <td>Mpesa</td>\n",
              "      <td>2017-11-27</td>\n",
              "      <td>2022-11-20 07:12:00</td>\n",
              "      <td>Migori</td>\n",
              "      <td>Nairobi</td>\n",
              "      <td>Bus</td>\n",
              "      <td>49</td>\n",
              "      <td>31</td>\n",
              "      <td>11</td>\n",
              "      <td>331</td>\n",
              "      <td>27</td>\n",
              "      <td>0</td>\n",
              "      <td>7</td>\n",
              "      <td>12</td>\n",
              "      <td>am</td>\n",
              "      <td>370.0</td>\n",
              "      <td>428</td>\n",
              "      <td>1.156757</td>\n",
              "    </tr>\n",
              "  </tbody>\n",
              "</table>\n",
              "</div>\n",
              "      <button class=\"colab-df-convert\" onclick=\"convertToInteractive('df-fa259cab-a544-4351-83d8-b36dd46e3a53')\"\n",
              "              title=\"Convert this dataframe to an interactive table.\"\n",
              "              style=\"display:none;\">\n",
              "        \n",
              "  <svg xmlns=\"http://www.w3.org/2000/svg\" height=\"24px\"viewBox=\"0 0 24 24\"\n",
              "       width=\"24px\">\n",
              "    <path d=\"M0 0h24v24H0V0z\" fill=\"none\"/>\n",
              "    <path d=\"M18.56 5.44l.94 2.06.94-2.06 2.06-.94-2.06-.94-.94-2.06-.94 2.06-2.06.94zm-11 1L8.5 8.5l.94-2.06 2.06-.94-2.06-.94L8.5 2.5l-.94 2.06-2.06.94zm10 10l.94 2.06.94-2.06 2.06-.94-2.06-.94-.94-2.06-.94 2.06-2.06.94z\"/><path d=\"M17.41 7.96l-1.37-1.37c-.4-.4-.92-.59-1.43-.59-.52 0-1.04.2-1.43.59L10.3 9.45l-7.72 7.72c-.78.78-.78 2.05 0 2.83L4 21.41c.39.39.9.59 1.41.59.51 0 1.02-.2 1.41-.59l7.78-7.78 2.81-2.81c.8-.78.8-2.07 0-2.86zM5.41 20L4 18.59l7.72-7.72 1.47 1.35L5.41 20z\"/>\n",
              "  </svg>\n",
              "      </button>\n",
              "      \n",
              "  <style>\n",
              "    .colab-df-container {\n",
              "      display:flex;\n",
              "      flex-wrap:wrap;\n",
              "      gap: 12px;\n",
              "    }\n",
              "\n",
              "    .colab-df-convert {\n",
              "      background-color: #E8F0FE;\n",
              "      border: none;\n",
              "      border-radius: 50%;\n",
              "      cursor: pointer;\n",
              "      display: none;\n",
              "      fill: #1967D2;\n",
              "      height: 32px;\n",
              "      padding: 0 0 0 0;\n",
              "      width: 32px;\n",
              "    }\n",
              "\n",
              "    .colab-df-convert:hover {\n",
              "      background-color: #E2EBFA;\n",
              "      box-shadow: 0px 1px 2px rgba(60, 64, 67, 0.3), 0px 1px 3px 1px rgba(60, 64, 67, 0.15);\n",
              "      fill: #174EA6;\n",
              "    }\n",
              "\n",
              "    [theme=dark] .colab-df-convert {\n",
              "      background-color: #3B4455;\n",
              "      fill: #D2E3FC;\n",
              "    }\n",
              "\n",
              "    [theme=dark] .colab-df-convert:hover {\n",
              "      background-color: #434B5C;\n",
              "      box-shadow: 0px 1px 3px 1px rgba(0, 0, 0, 0.15);\n",
              "      filter: drop-shadow(0px 1px 2px rgba(0, 0, 0, 0.3));\n",
              "      fill: #FFFFFF;\n",
              "    }\n",
              "  </style>\n",
              "\n",
              "      <script>\n",
              "        const buttonEl =\n",
              "          document.querySelector('#df-fa259cab-a544-4351-83d8-b36dd46e3a53 button.colab-df-convert');\n",
              "        buttonEl.style.display =\n",
              "          google.colab.kernel.accessAllowed ? 'block' : 'none';\n",
              "\n",
              "        async function convertToInteractive(key) {\n",
              "          const element = document.querySelector('#df-fa259cab-a544-4351-83d8-b36dd46e3a53');\n",
              "          const dataTable =\n",
              "            await google.colab.kernel.invokeFunction('convertToInteractive',\n",
              "                                                     [key], {});\n",
              "          if (!dataTable) return;\n",
              "\n",
              "          const docLinkHtml = 'Like what you see? Visit the ' +\n",
              "            '<a target=\"_blank\" href=https://colab.research.google.com/notebooks/data_table.ipynb>data table notebook</a>'\n",
              "            + ' to learn more about interactive tables.';\n",
              "          element.innerHTML = '';\n",
              "          dataTable['output_type'] = 'display_data';\n",
              "          await google.colab.output.renderOutput(dataTable, element);\n",
              "          const docLink = document.createElement('div');\n",
              "          docLink.innerHTML = docLinkHtml;\n",
              "          element.appendChild(docLink);\n",
              "        }\n",
              "      </script>\n",
              "    </div>\n",
              "  </div>\n",
              "  "
            ]
          },
          "metadata": {},
          "execution_count": 19
        }
      ],
      "source": [
        "dataset.head()"
      ]
    },
    {
      "cell_type": "markdown",
      "source": [
        "I droping Some unwanted features"
      ],
      "metadata": {
        "id": "6cWKmbmBoTvT"
      }
    },
    {
      "cell_type": "code",
      "source": [
        "dataset = dataset.drop(['ride_id', 'seat_number', 'travel_date', 'travel_time', 'travel_to'], axis=1)"
      ],
      "metadata": {
        "id": "aCJzOjW1oTaS"
      },
      "execution_count": 20,
      "outputs": []
    },
    {
      "cell_type": "markdown",
      "metadata": {
        "id": "Xt8w0o5_HDzw"
      },
      "source": [
        "#### description of the Data"
      ]
    },
    {
      "cell_type": "code",
      "execution_count": 21,
      "metadata": {
        "colab": {
          "base_uri": "https://localhost:8080/",
          "height": 458
        },
        "id": "_6P7DQCLGDGG",
        "outputId": "668eacc3-8048-448b-f626-a6cca964f48a"
      },
      "outputs": [
        {
          "output_type": "execute_result",
          "data": {
            "text/plain": [
              "       payment_method travel_from car_type  max_capacity  number_of_tickets  \\\n",
              "count           51476       51476    51476  51476.000000       51476.000000   \n",
              "unique              2          17        2           NaN                NaN   \n",
              "top             Mpesa       Kisii      Bus           NaN                NaN   \n",
              "freq            51364       22587    31835           NaN                NaN   \n",
              "mean              NaN         NaN      NaN     34.500855          17.274011   \n",
              "std               NaN         NaN      NaN     18.459386          12.380067   \n",
              "min               NaN         NaN      NaN     11.000000           1.000000   \n",
              "25%               NaN         NaN      NaN     11.000000           9.000000   \n",
              "50%               NaN         NaN      NaN     49.000000          11.000000   \n",
              "75%               NaN         NaN      NaN     49.000000          26.000000   \n",
              "max               NaN         NaN      NaN     49.000000          50.000000   \n",
              "\n",
              "               month   day_of_year  day_of_month   day_of_week          hour  \\\n",
              "count   51476.000000  51476.000000  51476.000000  51476.000000  51476.000000   \n",
              "unique           NaN           NaN           NaN           NaN           NaN   \n",
              "top              NaN           NaN           NaN           NaN           NaN   \n",
              "freq             NaN           NaN           NaN           NaN           NaN   \n",
              "mean        5.891930    161.716256     13.528771      2.915320      8.614228   \n",
              "std         4.112606    123.292433      9.142454      1.951813      3.685139   \n",
              "min         1.000000      1.000000      1.000000      0.000000      5.000000   \n",
              "25%         2.000000     52.000000      3.000000      1.000000      7.000000   \n",
              "50%         4.000000    108.000000     14.000000      3.000000      7.000000   \n",
              "75%        10.000000    285.000000     20.000000      5.000000      9.000000   \n",
              "max        12.000000    365.000000     31.000000      6.000000     23.000000   \n",
              "\n",
              "             minutes period  travel_from_distance  travel_from_time  \\\n",
              "count   51476.000000  51476          51476.000000      51476.000000   \n",
              "unique           NaN      3                   NaN               NaN   \n",
              "top              NaN     am                   NaN               NaN   \n",
              "freq             NaN  42056                   NaN               NaN   \n",
              "mean       15.803967    NaN            335.286073        377.257304   \n",
              "std        15.788677    NaN             34.814450         47.823835   \n",
              "min         0.000000    NaN            271.000000        290.000000   \n",
              "25%         6.000000    NaN            305.100000        334.000000   \n",
              "50%        10.000000    NaN            332.000000        381.000000   \n",
              "75%        20.000000    NaN            370.000000        428.000000   \n",
              "max        59.000000    NaN            401.000000        450.000000   \n",
              "\n",
              "               Speed  \n",
              "count   51476.000000  \n",
              "unique           NaN  \n",
              "top              NaN  \n",
              "freq             NaN  \n",
              "mean        1.122561  \n",
              "std         0.031087  \n",
              "min         1.058681  \n",
              "25%         1.094723  \n",
              "50%         1.109105  \n",
              "75%         1.156757  \n",
              "max         1.166667  "
            ],
            "text/html": [
              "\n",
              "  <div id=\"df-6ddcfa47-3a9c-4209-a651-88b641c13c33\">\n",
              "    <div class=\"colab-df-container\">\n",
              "      <div>\n",
              "<style scoped>\n",
              "    .dataframe tbody tr th:only-of-type {\n",
              "        vertical-align: middle;\n",
              "    }\n",
              "\n",
              "    .dataframe tbody tr th {\n",
              "        vertical-align: top;\n",
              "    }\n",
              "\n",
              "    .dataframe thead th {\n",
              "        text-align: right;\n",
              "    }\n",
              "</style>\n",
              "<table border=\"1\" class=\"dataframe\">\n",
              "  <thead>\n",
              "    <tr style=\"text-align: right;\">\n",
              "      <th></th>\n",
              "      <th>payment_method</th>\n",
              "      <th>travel_from</th>\n",
              "      <th>car_type</th>\n",
              "      <th>max_capacity</th>\n",
              "      <th>number_of_tickets</th>\n",
              "      <th>month</th>\n",
              "      <th>day_of_year</th>\n",
              "      <th>day_of_month</th>\n",
              "      <th>day_of_week</th>\n",
              "      <th>hour</th>\n",
              "      <th>minutes</th>\n",
              "      <th>period</th>\n",
              "      <th>travel_from_distance</th>\n",
              "      <th>travel_from_time</th>\n",
              "      <th>Speed</th>\n",
              "    </tr>\n",
              "  </thead>\n",
              "  <tbody>\n",
              "    <tr>\n",
              "      <th>count</th>\n",
              "      <td>51476</td>\n",
              "      <td>51476</td>\n",
              "      <td>51476</td>\n",
              "      <td>51476.000000</td>\n",
              "      <td>51476.000000</td>\n",
              "      <td>51476.000000</td>\n",
              "      <td>51476.000000</td>\n",
              "      <td>51476.000000</td>\n",
              "      <td>51476.000000</td>\n",
              "      <td>51476.000000</td>\n",
              "      <td>51476.000000</td>\n",
              "      <td>51476</td>\n",
              "      <td>51476.000000</td>\n",
              "      <td>51476.000000</td>\n",
              "      <td>51476.000000</td>\n",
              "    </tr>\n",
              "    <tr>\n",
              "      <th>unique</th>\n",
              "      <td>2</td>\n",
              "      <td>17</td>\n",
              "      <td>2</td>\n",
              "      <td>NaN</td>\n",
              "      <td>NaN</td>\n",
              "      <td>NaN</td>\n",
              "      <td>NaN</td>\n",
              "      <td>NaN</td>\n",
              "      <td>NaN</td>\n",
              "      <td>NaN</td>\n",
              "      <td>NaN</td>\n",
              "      <td>3</td>\n",
              "      <td>NaN</td>\n",
              "      <td>NaN</td>\n",
              "      <td>NaN</td>\n",
              "    </tr>\n",
              "    <tr>\n",
              "      <th>top</th>\n",
              "      <td>Mpesa</td>\n",
              "      <td>Kisii</td>\n",
              "      <td>Bus</td>\n",
              "      <td>NaN</td>\n",
              "      <td>NaN</td>\n",
              "      <td>NaN</td>\n",
              "      <td>NaN</td>\n",
              "      <td>NaN</td>\n",
              "      <td>NaN</td>\n",
              "      <td>NaN</td>\n",
              "      <td>NaN</td>\n",
              "      <td>am</td>\n",
              "      <td>NaN</td>\n",
              "      <td>NaN</td>\n",
              "      <td>NaN</td>\n",
              "    </tr>\n",
              "    <tr>\n",
              "      <th>freq</th>\n",
              "      <td>51364</td>\n",
              "      <td>22587</td>\n",
              "      <td>31835</td>\n",
              "      <td>NaN</td>\n",
              "      <td>NaN</td>\n",
              "      <td>NaN</td>\n",
              "      <td>NaN</td>\n",
              "      <td>NaN</td>\n",
              "      <td>NaN</td>\n",
              "      <td>NaN</td>\n",
              "      <td>NaN</td>\n",
              "      <td>42056</td>\n",
              "      <td>NaN</td>\n",
              "      <td>NaN</td>\n",
              "      <td>NaN</td>\n",
              "    </tr>\n",
              "    <tr>\n",
              "      <th>mean</th>\n",
              "      <td>NaN</td>\n",
              "      <td>NaN</td>\n",
              "      <td>NaN</td>\n",
              "      <td>34.500855</td>\n",
              "      <td>17.274011</td>\n",
              "      <td>5.891930</td>\n",
              "      <td>161.716256</td>\n",
              "      <td>13.528771</td>\n",
              "      <td>2.915320</td>\n",
              "      <td>8.614228</td>\n",
              "      <td>15.803967</td>\n",
              "      <td>NaN</td>\n",
              "      <td>335.286073</td>\n",
              "      <td>377.257304</td>\n",
              "      <td>1.122561</td>\n",
              "    </tr>\n",
              "    <tr>\n",
              "      <th>std</th>\n",
              "      <td>NaN</td>\n",
              "      <td>NaN</td>\n",
              "      <td>NaN</td>\n",
              "      <td>18.459386</td>\n",
              "      <td>12.380067</td>\n",
              "      <td>4.112606</td>\n",
              "      <td>123.292433</td>\n",
              "      <td>9.142454</td>\n",
              "      <td>1.951813</td>\n",
              "      <td>3.685139</td>\n",
              "      <td>15.788677</td>\n",
              "      <td>NaN</td>\n",
              "      <td>34.814450</td>\n",
              "      <td>47.823835</td>\n",
              "      <td>0.031087</td>\n",
              "    </tr>\n",
              "    <tr>\n",
              "      <th>min</th>\n",
              "      <td>NaN</td>\n",
              "      <td>NaN</td>\n",
              "      <td>NaN</td>\n",
              "      <td>11.000000</td>\n",
              "      <td>1.000000</td>\n",
              "      <td>1.000000</td>\n",
              "      <td>1.000000</td>\n",
              "      <td>1.000000</td>\n",
              "      <td>0.000000</td>\n",
              "      <td>5.000000</td>\n",
              "      <td>0.000000</td>\n",
              "      <td>NaN</td>\n",
              "      <td>271.000000</td>\n",
              "      <td>290.000000</td>\n",
              "      <td>1.058681</td>\n",
              "    </tr>\n",
              "    <tr>\n",
              "      <th>25%</th>\n",
              "      <td>NaN</td>\n",
              "      <td>NaN</td>\n",
              "      <td>NaN</td>\n",
              "      <td>11.000000</td>\n",
              "      <td>9.000000</td>\n",
              "      <td>2.000000</td>\n",
              "      <td>52.000000</td>\n",
              "      <td>3.000000</td>\n",
              "      <td>1.000000</td>\n",
              "      <td>7.000000</td>\n",
              "      <td>6.000000</td>\n",
              "      <td>NaN</td>\n",
              "      <td>305.100000</td>\n",
              "      <td>334.000000</td>\n",
              "      <td>1.094723</td>\n",
              "    </tr>\n",
              "    <tr>\n",
              "      <th>50%</th>\n",
              "      <td>NaN</td>\n",
              "      <td>NaN</td>\n",
              "      <td>NaN</td>\n",
              "      <td>49.000000</td>\n",
              "      <td>11.000000</td>\n",
              "      <td>4.000000</td>\n",
              "      <td>108.000000</td>\n",
              "      <td>14.000000</td>\n",
              "      <td>3.000000</td>\n",
              "      <td>7.000000</td>\n",
              "      <td>10.000000</td>\n",
              "      <td>NaN</td>\n",
              "      <td>332.000000</td>\n",
              "      <td>381.000000</td>\n",
              "      <td>1.109105</td>\n",
              "    </tr>\n",
              "    <tr>\n",
              "      <th>75%</th>\n",
              "      <td>NaN</td>\n",
              "      <td>NaN</td>\n",
              "      <td>NaN</td>\n",
              "      <td>49.000000</td>\n",
              "      <td>26.000000</td>\n",
              "      <td>10.000000</td>\n",
              "      <td>285.000000</td>\n",
              "      <td>20.000000</td>\n",
              "      <td>5.000000</td>\n",
              "      <td>9.000000</td>\n",
              "      <td>20.000000</td>\n",
              "      <td>NaN</td>\n",
              "      <td>370.000000</td>\n",
              "      <td>428.000000</td>\n",
              "      <td>1.156757</td>\n",
              "    </tr>\n",
              "    <tr>\n",
              "      <th>max</th>\n",
              "      <td>NaN</td>\n",
              "      <td>NaN</td>\n",
              "      <td>NaN</td>\n",
              "      <td>49.000000</td>\n",
              "      <td>50.000000</td>\n",
              "      <td>12.000000</td>\n",
              "      <td>365.000000</td>\n",
              "      <td>31.000000</td>\n",
              "      <td>6.000000</td>\n",
              "      <td>23.000000</td>\n",
              "      <td>59.000000</td>\n",
              "      <td>NaN</td>\n",
              "      <td>401.000000</td>\n",
              "      <td>450.000000</td>\n",
              "      <td>1.166667</td>\n",
              "    </tr>\n",
              "  </tbody>\n",
              "</table>\n",
              "</div>\n",
              "      <button class=\"colab-df-convert\" onclick=\"convertToInteractive('df-6ddcfa47-3a9c-4209-a651-88b641c13c33')\"\n",
              "              title=\"Convert this dataframe to an interactive table.\"\n",
              "              style=\"display:none;\">\n",
              "        \n",
              "  <svg xmlns=\"http://www.w3.org/2000/svg\" height=\"24px\"viewBox=\"0 0 24 24\"\n",
              "       width=\"24px\">\n",
              "    <path d=\"M0 0h24v24H0V0z\" fill=\"none\"/>\n",
              "    <path d=\"M18.56 5.44l.94 2.06.94-2.06 2.06-.94-2.06-.94-.94-2.06-.94 2.06-2.06.94zm-11 1L8.5 8.5l.94-2.06 2.06-.94-2.06-.94L8.5 2.5l-.94 2.06-2.06.94zm10 10l.94 2.06.94-2.06 2.06-.94-2.06-.94-.94-2.06-.94 2.06-2.06.94z\"/><path d=\"M17.41 7.96l-1.37-1.37c-.4-.4-.92-.59-1.43-.59-.52 0-1.04.2-1.43.59L10.3 9.45l-7.72 7.72c-.78.78-.78 2.05 0 2.83L4 21.41c.39.39.9.59 1.41.59.51 0 1.02-.2 1.41-.59l7.78-7.78 2.81-2.81c.8-.78.8-2.07 0-2.86zM5.41 20L4 18.59l7.72-7.72 1.47 1.35L5.41 20z\"/>\n",
              "  </svg>\n",
              "      </button>\n",
              "      \n",
              "  <style>\n",
              "    .colab-df-container {\n",
              "      display:flex;\n",
              "      flex-wrap:wrap;\n",
              "      gap: 12px;\n",
              "    }\n",
              "\n",
              "    .colab-df-convert {\n",
              "      background-color: #E8F0FE;\n",
              "      border: none;\n",
              "      border-radius: 50%;\n",
              "      cursor: pointer;\n",
              "      display: none;\n",
              "      fill: #1967D2;\n",
              "      height: 32px;\n",
              "      padding: 0 0 0 0;\n",
              "      width: 32px;\n",
              "    }\n",
              "\n",
              "    .colab-df-convert:hover {\n",
              "      background-color: #E2EBFA;\n",
              "      box-shadow: 0px 1px 2px rgba(60, 64, 67, 0.3), 0px 1px 3px 1px rgba(60, 64, 67, 0.15);\n",
              "      fill: #174EA6;\n",
              "    }\n",
              "\n",
              "    [theme=dark] .colab-df-convert {\n",
              "      background-color: #3B4455;\n",
              "      fill: #D2E3FC;\n",
              "    }\n",
              "\n",
              "    [theme=dark] .colab-df-convert:hover {\n",
              "      background-color: #434B5C;\n",
              "      box-shadow: 0px 1px 3px 1px rgba(0, 0, 0, 0.15);\n",
              "      filter: drop-shadow(0px 1px 2px rgba(0, 0, 0, 0.3));\n",
              "      fill: #FFFFFF;\n",
              "    }\n",
              "  </style>\n",
              "\n",
              "      <script>\n",
              "        const buttonEl =\n",
              "          document.querySelector('#df-6ddcfa47-3a9c-4209-a651-88b641c13c33 button.colab-df-convert');\n",
              "        buttonEl.style.display =\n",
              "          google.colab.kernel.accessAllowed ? 'block' : 'none';\n",
              "\n",
              "        async function convertToInteractive(key) {\n",
              "          const element = document.querySelector('#df-6ddcfa47-3a9c-4209-a651-88b641c13c33');\n",
              "          const dataTable =\n",
              "            await google.colab.kernel.invokeFunction('convertToInteractive',\n",
              "                                                     [key], {});\n",
              "          if (!dataTable) return;\n",
              "\n",
              "          const docLinkHtml = 'Like what you see? Visit the ' +\n",
              "            '<a target=\"_blank\" href=https://colab.research.google.com/notebooks/data_table.ipynb>data table notebook</a>'\n",
              "            + ' to learn more about interactive tables.';\n",
              "          element.innerHTML = '';\n",
              "          dataTable['output_type'] = 'display_data';\n",
              "          await google.colab.output.renderOutput(dataTable, element);\n",
              "          const docLink = document.createElement('div');\n",
              "          docLink.innerHTML = docLinkHtml;\n",
              "          element.appendChild(docLink);\n",
              "        }\n",
              "      </script>\n",
              "    </div>\n",
              "  </div>\n",
              "  "
            ]
          },
          "metadata": {},
          "execution_count": 21
        }
      ],
      "source": [
        "dataset.describe(include='all')"
      ]
    },
    {
      "cell_type": "markdown",
      "metadata": {
        "id": "BeEFXbBDHNgY"
      },
      "source": [
        "####Examin the Data Distribution of target Variable"
      ]
    },
    {
      "cell_type": "code",
      "execution_count": 22,
      "metadata": {
        "id": "9-SZ1PMqHF9O"
      },
      "outputs": [],
      "source": [
        "target_var = dataset['number_of_tickets']"
      ]
    },
    {
      "cell_type": "code",
      "execution_count": 23,
      "metadata": {
        "colab": {
          "base_uri": "https://localhost:8080/",
          "height": 443
        },
        "id": "kQECo6-FHL3j",
        "outputId": "df5bb8ad-57d3-4e66-c8fb-20a06119f0d2"
      },
      "outputs": [
        {
          "output_type": "display_data",
          "data": {
            "text/plain": [
              "<Figure size 504x504 with 1 Axes>"
            ],
            "image/png": "[encoded data removed]"
          },
          "metadata": {}
        }
      ],
      "source": [
        "plt.figure(figsize=(7,7))\n",
        "sns.distplot(target_var, color='y')\n",
        "plt.show()"
      ]
    },
    {
      "cell_type": "markdown",
      "metadata": {
        "id": "BYe9IqJYISoz"
      },
      "source": [
        "# Exploratory Data Analysis (EDA)"
      ]
    },
    {
      "cell_type": "markdown",
      "metadata": {
        "id": "s-seBZdzIYgh"
      },
      "source": [
        "###First I perform EDA for **Numerical Variables**"
      ]
    },
    {
      "cell_type": "code",
      "execution_count": 31,
      "metadata": {
        "colab": {
          "base_uri": "https://localhost:8080/"
        },
        "id": "7O_tQnDZHWX0",
        "outputId": "4970441a-6872-449a-c8d2-8d77f3dc4d4b"
      },
      "outputs": [
        {
          "output_type": "execute_result",
          "data": {
            "text/plain": [
              "['max_capacity',\n",
              " 'month',\n",
              " 'day_of_year',\n",
              " 'day_of_month',\n",
              " 'day_of_week',\n",
              " 'hour',\n",
              " 'minutes',\n",
              " 'travel_from_distance',\n",
              " 'travel_from_time',\n",
              " 'Speed']"
            ]
          },
          "metadata": {},
          "execution_count": 31
        }
      ],
      "source": [
        "numerical_feature = [col for col in dataset.describe().columns if col not in ['number_of_tickets'] ]\n",
        "numerical_feature"
      ]
    },
    {
      "cell_type": "markdown",
      "metadata": {
        "id": "T5-Y5R_sIfpE"
      },
      "source": [
        "####Univariant Analysis"
      ]
    },
    {
      "cell_type": "code",
      "execution_count": 32,
      "metadata": {
        "colab": {
          "base_uri": "https://localhost:8080/",
          "height": 1000
        },
        "id": "b5f5MoMAIbHp",
        "outputId": "b34e6915-3ec4-4f6c-d6ce-298a05159a9f"
      },
      "outputs": [
        {
          "output_type": "display_data",
          "data": {
            "text/plain": [
              "<Figure size 504x504 with 1 Axes>"
            ],
            "image/png": "[encoded data removed]"
          },
          "metadata": {}
        },
        {
          "output_type": "display_data",
          "data": {
            "text/plain": [
              "<Figure size 504x504 with 1 Axes>"
            ],
            "image/png": "[encoded data removed]"
          },
          "metadata": {}
        },
        {
          "output_type": "display_data",
          "data": {
            "text/plain": [
              "<Figure size 504x504 with 1 Axes>"
            ],
            "image/png": "[encoded data removed]"
          },
          "metadata": {}
        },
        {
          "output_type": "display_data",
          "data": {
            "text/plain": [
              "<Figure size 504x504 with 1 Axes>"
            ],
            "image/png": "[encoded data removed]"
          },
          "metadata": {}
        },
        {
          "output_type": "display_data",
          "data": {
            "text/plain": [
              "<Figure size 504x504 with 1 Axes>"
            ],
            "image/png": "[encoded data removed]"
          },
          "metadata": {}
        },
        {
          "output_type": "display_data",
          "data": {
            "text/plain": [
              "<Figure size 504x504 with 1 Axes>"
            ],
            "image/png": "[encoded data removed]"
          },
          "metadata": {}
        },
        {
          "output_type": "display_data",
          "data": {
            "text/plain": [
              "<Figure size 504x504 with 1 Axes>"
            ],
            "image/png": "[encoded data removed]"
          },
          "metadata": {}
        },
        {
          "output_type": "display_data",
          "data": {
            "text/plain": [
              "<Figure size 504x504 with 1 Axes>"
            ],
            "image/png": "[encoded data removed]"
          },
          "metadata": {}
        }
      ],
      "source": [
        "for col in numerical_feature[1:-1]:\n",
        "  plt.figure(figsize=(7,7))\n",
        "  dataset[col].plot(kind='box')\n",
        "  "
      ]
    },
    {
      "cell_type": "markdown",
      "metadata": {
        "id": "gq7hFFp6Ilhm"
      },
      "source": [
        "I draw a box plot of numerical variables to visualize the Outliers. Since there are no outliers."
      ]
    },
    {
      "cell_type": "markdown",
      "metadata": {
        "id": "wHR4pPMPImY-"
      },
      "source": [
        "### Bivarient Analysis"
      ]
    },
    {
      "cell_type": "code",
      "execution_count": 33,
      "metadata": {
        "colab": {
          "base_uri": "https://localhost:8080/",
          "height": 1000
        },
        "id": "T9Cs9L7YIiEi",
        "outputId": "9be7eb4a-4fcf-4316-b6fd-31700af9083e"
      },
      "outputs": [
        {
          "output_type": "display_data",
          "data": {
            "text/plain": [
              "<Figure size 720x576 with 1 Axes>"
            ],
            "image/png": "[encoded data removed]"
          },
          "metadata": {}
        },
        {
          "output_type": "display_data",
          "data": {
            "text/plain": [
              "<Figure size 720x576 with 1 Axes>"
            ],
            "image/png": "[encoded data removed]"
          },
          "metadata": {}
        },
        {
          "output_type": "display_data",
          "data": {
            "text/plain": [
              "<Figure size 720x576 with 1 Axes>"
            ],
            "image/png": "[encoded data removed]"
          },
          "metadata": {}
        },
        {
          "output_type": "display_data",
          "data": {
            "text/plain": [
              "<Figure size 720x576 with 1 Axes>"
            ],
            "image/png": "[encoded data removed]"
          },
          "metadata": {}
        },
        {
          "output_type": "display_data",
          "data": {
            "text/plain": [
              "<Figure size 720x576 with 1 Axes>"
            ],
            "image/png": "[encoded data removed]"
          },
          "metadata": {}
        },
        {
          "output_type": "display_data",
          "data": {
            "text/plain": [
              "<Figure size 720x576 with 1 Axes>"
            ],
            "image/png": "[encoded data removed]"
          },
          "metadata": {}
        },
        {
          "output_type": "display_data",
          "data": {
            "text/plain": [
              "<Figure size 720x576 with 1 Axes>"
            ],
            "image/png": "[encoded data removed]"
          },
          "metadata": {}
        },
        {
          "output_type": "display_data",
          "data": {
            "text/plain": [
              "<Figure size 720x576 with 1 Axes>"
            ],
            "image/png": "[encoded data removed]"
          },
          "metadata": {}
        },
        {
          "output_type": "display_data",
          "data": {
            "text/plain": [
              "<Figure size 720x576 with 1 Axes>"
            ],
            "image/png": "[encoded data removed]"
          },
          "metadata": {}
        }
      ],
      "source": [
        "for col in numerical_feature:\n",
        "  if col != 'day_of_year':\n",
        "    dd = dataset.groupby([col])['number_of_tickets'].mean()\n",
        "    dd = dd.reset_index()\n",
        "    plt.figure(figsize =(10, 8))\n",
        "    plt.stem(dd[col], dd['number_of_tickets'])\n",
        "    plt.xlabel(col)\n",
        "    plt.ylabel('avg_number_of_seats')\n",
        "\n",
        "plt.show()"
      ]
    },
    {
      "cell_type": "markdown",
      "metadata": {
        "id": "VyoGjX6jJHaG"
      },
      "source": [
        "###EDA For **Categorical Variabels**"
      ]
    },
    {
      "cell_type": "code",
      "execution_count": 34,
      "metadata": {
        "colab": {
          "base_uri": "https://localhost:8080/"
        },
        "id": "N7VO1DooJIZt",
        "outputId": "5aae75ba-aa3e-4c3c-f653-f431a4df1497"
      },
      "outputs": [
        {
          "output_type": "execute_result",
          "data": {
            "text/plain": [
              "Index(['payment_method', 'travel_from', 'car_type', 'period'], dtype='object')"
            ]
          },
          "metadata": {},
          "execution_count": 34
        }
      ],
      "source": [
        "categorical_features = dataset.describe(include = ['object', 'category']).columns\n",
        "categorical_features"
      ]
    },
    {
      "cell_type": "markdown",
      "metadata": {
        "id": "HrjQhUsSJOEf"
      },
      "source": [
        "####Univarient Analysis"
      ]
    },
    {
      "cell_type": "code",
      "execution_count": 35,
      "metadata": {
        "colab": {
          "base_uri": "https://localhost:8080/",
          "height": 1000
        },
        "id": "nzNJItIyJKBU",
        "outputId": "da2c6a34-583a-418e-8e66-c5a757c04fb8"
      },
      "outputs": [
        {
          "output_type": "display_data",
          "data": {
            "text/plain": [
              "<Figure size 864x360 with 1 Axes>"
            ],
            "image/png": "[encoded data removed]"
          },
          "metadata": {}
        },
        {
          "output_type": "display_data",
          "data": {
            "text/plain": [
              "<Figure size 864x360 with 1 Axes>"
            ],
            "image/png": "[encoded data removed]"
          },
          "metadata": {}
        },
        {
          "output_type": "display_data",
          "data": {
            "text/plain": [
              "<Figure size 864x360 with 1 Axes>"
            ],
            "image/png": "[encoded data removed]"
          },
          "metadata": {}
        },
        {
          "output_type": "display_data",
          "data": {
            "text/plain": [
              "<Figure size 864x360 with 1 Axes>"
            ],
            "image/png": "[encoded data removed]"
          },
          "metadata": {}
        }
      ],
      "source": [
        "for col in categorical_features:\n",
        "  count = dataset[col].value_counts()\n",
        "  plt.figure(figsize = (12,5))\n",
        "  count.plot(kind='bar', color='lightsteelblue')\n",
        "  plt.xlabel(col)\n",
        "  plt.ylabel('frequency')\n",
        "  plt.title(f'{col} countplot')\n",
        "\n",
        "plt.show()"
      ]
    },
    {
      "cell_type": "markdown",
      "metadata": {
        "id": "n_yseLVYJT-q"
      },
      "source": [
        "from the above plots i comes to some conclusions:-\n",
        "\n",
        "\n",
        "*   The route originat from kisii town has more movement as compare to other towns.\n",
        "\n",
        "*   Movement of peoples are linear from May to september. and increase in the months from December to April\n",
        "* The vehicle having 49 seats capacity are more in use as compare to vehicle having 11 seat capacity\n",
        "\n",
        "* there is no ride is happining and the movment of peoples are more at morning as compaire Evening.\n"
      ]
    },
    {
      "cell_type": "markdown",
      "metadata": {
        "id": "UK3TU4etJjbn"
      },
      "source": [
        "### Bivarient Analysis"
      ]
    },
    {
      "cell_type": "code",
      "execution_count": 36,
      "metadata": {
        "colab": {
          "base_uri": "https://localhost:8080/",
          "height": 1000
        },
        "id": "VvQW2p8yJP6z",
        "outputId": "40fdae77-df7c-4b04-917e-6ff5d2fdd26f"
      },
      "outputs": [
        {
          "output_type": "display_data",
          "data": {
            "text/plain": [
              "<Figure size 864x432 with 1 Axes>"
            ],
            "image/png": "[encoded data removed]"
          },
          "metadata": {}
        },
        {
          "output_type": "display_data",
          "data": {
            "text/plain": [
              "<Figure size 864x432 with 1 Axes>"
            ],
            "image/png": "[encoded data removed]"
          },
          "metadata": {}
        },
        {
          "output_type": "display_data",
          "data": {
            "text/plain": [
              "<Figure size 864x432 with 1 Axes>"
            ],
            "image/png": "[encoded data removed]"
          },
          "metadata": {}
        },
        {
          "output_type": "display_data",
          "data": {
            "text/plain": [
              "<Figure size 864x432 with 1 Axes>"
            ],
            "image/png": "[encoded data removed]"
          },
          "metadata": {}
        }
      ],
      "source": [
        "for col in categorical_features:\n",
        "  fig = plt.figure(figsize = (12,6))\n",
        "  ax = fig.gca()\n",
        "  dataset.boxplot(column = 'number_of_tickets', by=col, ax = ax)\n",
        "  ax.set_title('Label by ' + col)\n",
        "  ax.set_ylabel('number_of_tickets')\n",
        "\n",
        "plt.show()"
      ]
    },
    {
      "cell_type": "markdown",
      "metadata": {
        "id": "9wKdoxUgJuT5"
      },
      "source": [
        "what i get from above plots :-\n",
        "\n",
        "\n",
        "*   More tickets are booked through Mpesa Payment Method.\n",
        "*   tickets of buses are more booked as compaire shuttle.\n",
        "* In March & April months more tickets are booked as compaire to other months.\n",
        "* Booking of tickets are linear in all days of the weeks.\n",
        "* As natural more capacity have more seats for booking, therefore 49 seats capacity vehicle have more booking as compare less capacity vehicle.\n",
        "* Above we see that on bar plot the Morning Strength is more as compair to Evening but on box plot the number of tickets are more in Evening.\n",
        "I thing it is becouse at morning time some peoples use train to reach their places on time. \n",
        "\n",
        "\n"
      ]
    },
    {
      "cell_type": "markdown",
      "metadata": {
        "id": "OPOdyMEDKPFs"
      },
      "source": [
        "# Feature Engineering"
      ]
    },
    {
      "cell_type": "code",
      "execution_count": 37,
      "metadata": {
        "id": "VC8Mc1o_JlcL"
      },
      "outputs": [],
      "source": [
        "df = dataset.copy()"
      ]
    },
    {
      "cell_type": "code",
      "source": [
        "conv_dict = {17:2, 19:2, 26:3, 27:3, 20:2, 18:2, 16:2, 15:2, 14:2, 13:2,  4:1, 28:2, 31:3, 30:3, 29:3, 25:3, 24:3,\n",
        "       23:3, 22:3, 21:3, 12:1,  3:1,  2:1,  1:2}\n",
        "df['day_of_month'].replace(conv_dict,inplace=True)"
      ],
      "metadata": {
        "id": "VpjngGbSqiuR"
      },
      "execution_count": 38,
      "outputs": []
    },
    {
      "cell_type": "code",
      "source": [
        "dict_cov = {12:1,2:1,1:1,2:1,4:2,11:2,9:3,7:3,8:3,10:3,6:3,5:3}\n",
        "df['month'].replace(dict_cov,inplace=True)"
      ],
      "metadata": {
        "id": "cJwojkYaqlbs"
      },
      "execution_count": 39,
      "outputs": []
    },
    {
      "cell_type": "code",
      "execution_count": 40,
      "metadata": {
        "id": "MeUlQglNKQqv"
      },
      "outputs": [],
      "source": [
        "#label encoding\n",
        "encoding = {\n",
        "    'payment_method' : {'Cash' : 0, 'Mpesa' : 1}, \n",
        "    'car_type': {'Bus': 0, 'shuttle' : 1}\n",
        "}\n",
        "\n",
        "df = df.replace(encoding)"
      ]
    },
    {
      "cell_type": "code",
      "execution_count": 41,
      "metadata": {
        "id": "TLa_1MFPKY8N"
      },
      "outputs": [],
      "source": [
        "df = pd.get_dummies(df, columns= ['travel_from', 'month', 'day_of_month'])"
      ]
    },
    {
      "cell_type": "code",
      "source": [
        "df = df.drop(['max_capacity', 'number_of_tickets', 'period'], axis=1)"
      ],
      "metadata": {
        "id": "J8K9uf6jrCZO"
      },
      "execution_count": 44,
      "outputs": []
    },
    {
      "cell_type": "code",
      "execution_count": 45,
      "metadata": {
        "colab": {
          "base_uri": "https://localhost:8080/",
          "height": 287
        },
        "id": "hi_MWl8PKaxl",
        "outputId": "1ccd06f3-2802-4665-c9bc-a08573503d3a"
      },
      "outputs": [
        {
          "output_type": "execute_result",
          "data": {
            "text/plain": [
              "   payment_method  car_type  day_of_year  day_of_week  hour  minutes  \\\n",
              "0               1         0          290            1     7       15   \n",
              "1               1         0          323            6     7       12   \n",
              "2               1         0          330            6     7        5   \n",
              "3               1         0          331            0     7       10   \n",
              "4               1         0          331            0     7       12   \n",
              "\n",
              "   travel_from_distance  travel_from_time     Speed  travel_from_Awendo  \\\n",
              "0                 370.0               428  1.156757                   0   \n",
              "1                 370.0               428  1.156757                   0   \n",
              "2                 280.0               300  1.071429                   0   \n",
              "3                 360.0               420  1.166667                   0   \n",
              "4                 370.0               428  1.156757                   0   \n",
              "\n",
              "   travel_from_Homa Bay  travel_from_Kehancha  travel_from_Kendu Bay  \\\n",
              "0                     0                     0                      0   \n",
              "1                     0                     0                      0   \n",
              "2                     0                     0                      0   \n",
              "3                     1                     0                      0   \n",
              "4                     0                     0                      0   \n",
              "\n",
              "   travel_from_Keroka  travel_from_Keumbu  travel_from_Kijauri  \\\n",
              "0                   0                   0                    0   \n",
              "1                   0                   0                    0   \n",
              "2                   1                   0                    0   \n",
              "3                   0                   0                    0   \n",
              "4                   0                   0                    0   \n",
              "\n",
              "   travel_from_Kisii  travel_from_Mbita  travel_from_Migori  \\\n",
              "0                  0                  0                   1   \n",
              "1                  0                  0                   1   \n",
              "2                  0                  0                   0   \n",
              "3                  0                  0                   0   \n",
              "4                  0                  0                   1   \n",
              "\n",
              "   travel_from_Ndhiwa  travel_from_Nyachenge  travel_from_Oyugis  \\\n",
              "0                   0                      0                   0   \n",
              "1                   0                      0                   0   \n",
              "2                   0                      0                   0   \n",
              "3                   0                      0                   0   \n",
              "4                   0                      0                   0   \n",
              "\n",
              "   travel_from_Rodi  travel_from_Rongo  travel_from_Sirare  travel_from_Sori  \\\n",
              "0                 0                  0                   0                 0   \n",
              "1                 0                  0                   0                 0   \n",
              "2                 0                  0                   0                 0   \n",
              "3                 0                  0                   0                 0   \n",
              "4                 0                  0                   0                 0   \n",
              "\n",
              "   month_1  month_2  month_3  day_of_month_1  day_of_month_2  day_of_month_3  \n",
              "0        0        0        1               0               1               0  \n",
              "1        0        1        0               0               1               0  \n",
              "2        0        1        0               0               0               1  \n",
              "3        0        1        0               0               0               1  \n",
              "4        0        1        0               0               0               1  "
            ],
            "text/html": [
              "\n",
              "  <div id=\"df-c517b9f7-bd96-4f21-aa53-15cacc419cf9\">\n",
              "    <div class=\"colab-df-container\">\n",
              "      <div>\n",
              "<style scoped>\n",
              "    .dataframe tbody tr th:only-of-type {\n",
              "        vertical-align: middle;\n",
              "    }\n",
              "\n",
              "    .dataframe tbody tr th {\n",
              "        vertical-align: top;\n",
              "    }\n",
              "\n",
              "    .dataframe thead th {\n",
              "        text-align: right;\n",
              "    }\n",
              "</style>\n",
              "<table border=\"1\" class=\"dataframe\">\n",
              "  <thead>\n",
              "    <tr style=\"text-align: right;\">\n",
              "      <th></th>\n",
              "      <th>payment_method</th>\n",
              "      <th>car_type</th>\n",
              "      <th>day_of_year</th>\n",
              "      <th>day_of_week</th>\n",
              "      <th>hour</th>\n",
              "      <th>minutes</th>\n",
              "      <th>travel_from_distance</th>\n",
              "      <th>travel_from_time</th>\n",
              "      <th>Speed</th>\n",
              "      <th>travel_from_Awendo</th>\n",
              "      <th>travel_from_Homa Bay</th>\n",
              "      <th>travel_from_Kehancha</th>\n",
              "      <th>travel_from_Kendu Bay</th>\n",
              "      <th>travel_from_Keroka</th>\n",
              "      <th>travel_from_Keumbu</th>\n",
              "      <th>travel_from_Kijauri</th>\n",
              "      <th>travel_from_Kisii</th>\n",
              "      <th>travel_from_Mbita</th>\n",
              "      <th>travel_from_Migori</th>\n",
              "      <th>travel_from_Ndhiwa</th>\n",
              "      <th>travel_from_Nyachenge</th>\n",
              "      <th>travel_from_Oyugis</th>\n",
              "      <th>travel_from_Rodi</th>\n",
              "      <th>travel_from_Rongo</th>\n",
              "      <th>travel_from_Sirare</th>\n",
              "      <th>travel_from_Sori</th>\n",
              "      <th>month_1</th>\n",
              "      <th>month_2</th>\n",
              "      <th>month_3</th>\n",
              "      <th>day_of_month_1</th>\n",
              "      <th>day_of_month_2</th>\n",
              "      <th>day_of_month_3</th>\n",
              "    </tr>\n",
              "  </thead>\n",
              "  <tbody>\n",
              "    <tr>\n",
              "      <th>0</th>\n",
              "      <td>1</td>\n",
              "      <td>0</td>\n",
              "      <td>290</td>\n",
              "      <td>1</td>\n",
              "      <td>7</td>\n",
              "      <td>15</td>\n",
              "      <td>370.0</td>\n",
              "      <td>428</td>\n",
              "      <td>1.156757</td>\n",
              "      <td>0</td>\n",
              "      <td>0</td>\n",
              "      <td>0</td>\n",
              "      <td>0</td>\n",
              "      <td>0</td>\n",
              "      <td>0</td>\n",
              "      <td>0</td>\n",
              "      <td>0</td>\n",
              "      <td>0</td>\n",
              "      <td>1</td>\n",
              "      <td>0</td>\n",
              "      <td>0</td>\n",
              "      <td>0</td>\n",
              "      <td>0</td>\n",
              "      <td>0</td>\n",
              "      <td>0</td>\n",
              "      <td>0</td>\n",
              "      <td>0</td>\n",
              "      <td>0</td>\n",
              "      <td>1</td>\n",
              "      <td>0</td>\n",
              "      <td>1</td>\n",
              "      <td>0</td>\n",
              "    </tr>\n",
              "    <tr>\n",
              "      <th>1</th>\n",
              "      <td>1</td>\n",
              "      <td>0</td>\n",
              "      <td>323</td>\n",
              "      <td>6</td>\n",
              "      <td>7</td>\n",
              "      <td>12</td>\n",
              "      <td>370.0</td>\n",
              "      <td>428</td>\n",
              "      <td>1.156757</td>\n",
              "      <td>0</td>\n",
              "      <td>0</td>\n",
              "      <td>0</td>\n",
              "      <td>0</td>\n",
              "      <td>0</td>\n",
              "      <td>0</td>\n",
              "      <td>0</td>\n",
              "      <td>0</td>\n",
              "      <td>0</td>\n",
              "      <td>1</td>\n",
              "      <td>0</td>\n",
              "      <td>0</td>\n",
              "      <td>0</td>\n",
              "      <td>0</td>\n",
              "      <td>0</td>\n",
              "      <td>0</td>\n",
              "      <td>0</td>\n",
              "      <td>0</td>\n",
              "      <td>1</td>\n",
              "      <td>0</td>\n",
              "      <td>0</td>\n",
              "      <td>1</td>\n",
              "      <td>0</td>\n",
              "    </tr>\n",
              "    <tr>\n",
              "      <th>2</th>\n",
              "      <td>1</td>\n",
              "      <td>0</td>\n",
              "      <td>330</td>\n",
              "      <td>6</td>\n",
              "      <td>7</td>\n",
              "      <td>5</td>\n",
              "      <td>280.0</td>\n",
              "      <td>300</td>\n",
              "      <td>1.071429</td>\n",
              "      <td>0</td>\n",
              "      <td>0</td>\n",
              "      <td>0</td>\n",
              "      <td>0</td>\n",
              "      <td>1</td>\n",
              "      <td>0</td>\n",
              "      <td>0</td>\n",
              "      <td>0</td>\n",
              "      <td>0</td>\n",
              "      <td>0</td>\n",
              "      <td>0</td>\n",
              "      <td>0</td>\n",
              "      <td>0</td>\n",
              "      <td>0</td>\n",
              "      <td>0</td>\n",
              "      <td>0</td>\n",
              "      <td>0</td>\n",
              "      <td>0</td>\n",
              "      <td>1</td>\n",
              "      <td>0</td>\n",
              "      <td>0</td>\n",
              "      <td>0</td>\n",
              "      <td>1</td>\n",
              "    </tr>\n",
              "    <tr>\n",
              "      <th>3</th>\n",
              "      <td>1</td>\n",
              "      <td>0</td>\n",
              "      <td>331</td>\n",
              "      <td>0</td>\n",
              "      <td>7</td>\n",
              "      <td>10</td>\n",
              "      <td>360.0</td>\n",
              "      <td>420</td>\n",
              "      <td>1.166667</td>\n",
              "      <td>0</td>\n",
              "      <td>1</td>\n",
              "      <td>0</td>\n",
              "      <td>0</td>\n",
              "      <td>0</td>\n",
              "      <td>0</td>\n",
              "      <td>0</td>\n",
              "      <td>0</td>\n",
              "      <td>0</td>\n",
              "      <td>0</td>\n",
              "      <td>0</td>\n",
              "      <td>0</td>\n",
              "      <td>0</td>\n",
              "      <td>0</td>\n",
              "      <td>0</td>\n",
              "      <td>0</td>\n",
              "      <td>0</td>\n",
              "      <td>0</td>\n",
              "      <td>1</td>\n",
              "      <td>0</td>\n",
              "      <td>0</td>\n",
              "      <td>0</td>\n",
              "      <td>1</td>\n",
              "    </tr>\n",
              "    <tr>\n",
              "      <th>4</th>\n",
              "      <td>1</td>\n",
              "      <td>0</td>\n",
              "      <td>331</td>\n",
              "      <td>0</td>\n",
              "      <td>7</td>\n",
              "      <td>12</td>\n",
              "      <td>370.0</td>\n",
              "      <td>428</td>\n",
              "      <td>1.156757</td>\n",
              "      <td>0</td>\n",
              "      <td>0</td>\n",
              "      <td>0</td>\n",
              "      <td>0</td>\n",
              "      <td>0</td>\n",
              "      <td>0</td>\n",
              "      <td>0</td>\n",
              "      <td>0</td>\n",
              "      <td>0</td>\n",
              "      <td>1</td>\n",
              "      <td>0</td>\n",
              "      <td>0</td>\n",
              "      <td>0</td>\n",
              "      <td>0</td>\n",
              "      <td>0</td>\n",
              "      <td>0</td>\n",
              "      <td>0</td>\n",
              "      <td>0</td>\n",
              "      <td>1</td>\n",
              "      <td>0</td>\n",
              "      <td>0</td>\n",
              "      <td>0</td>\n",
              "      <td>1</td>\n",
              "    </tr>\n",
              "  </tbody>\n",
              "</table>\n",
              "</div>\n",
              "      <button class=\"colab-df-convert\" onclick=\"convertToInteractive('df-c517b9f7-bd96-4f21-aa53-15cacc419cf9')\"\n",
              "              title=\"Convert this dataframe to an interactive table.\"\n",
              "              style=\"display:none;\">\n",
              "        \n",
              "  <svg xmlns=\"http://www.w3.org/2000/svg\" height=\"24px\"viewBox=\"0 0 24 24\"\n",
              "       width=\"24px\">\n",
              "    <path d=\"M0 0h24v24H0V0z\" fill=\"none\"/>\n",
              "    <path d=\"M18.56 5.44l.94 2.06.94-2.06 2.06-.94-2.06-.94-.94-2.06-.94 2.06-2.06.94zm-11 1L8.5 8.5l.94-2.06 2.06-.94-2.06-.94L8.5 2.5l-.94 2.06-2.06.94zm10 10l.94 2.06.94-2.06 2.06-.94-2.06-.94-.94-2.06-.94 2.06-2.06.94z\"/><path d=\"M17.41 7.96l-1.37-1.37c-.4-.4-.92-.59-1.43-.59-.52 0-1.04.2-1.43.59L10.3 9.45l-7.72 7.72c-.78.78-.78 2.05 0 2.83L4 21.41c.39.39.9.59 1.41.59.51 0 1.02-.2 1.41-.59l7.78-7.78 2.81-2.81c.8-.78.8-2.07 0-2.86zM5.41 20L4 18.59l7.72-7.72 1.47 1.35L5.41 20z\"/>\n",
              "  </svg>\n",
              "      </button>\n",
              "      \n",
              "  <style>\n",
              "    .colab-df-container {\n",
              "      display:flex;\n",
              "      flex-wrap:wrap;\n",
              "      gap: 12px;\n",
              "    }\n",
              "\n",
              "    .colab-df-convert {\n",
              "      background-color: #E8F0FE;\n",
              "      border: none;\n",
              "      border-radius: 50%;\n",
              "      cursor: pointer;\n",
              "      display: none;\n",
              "      fill: #1967D2;\n",
              "      height: 32px;\n",
              "      padding: 0 0 0 0;\n",
              "      width: 32px;\n",
              "    }\n",
              "\n",
              "    .colab-df-convert:hover {\n",
              "      background-color: #E2EBFA;\n",
              "      box-shadow: 0px 1px 2px rgba(60, 64, 67, 0.3), 0px 1px 3px 1px rgba(60, 64, 67, 0.15);\n",
              "      fill: #174EA6;\n",
              "    }\n",
              "\n",
              "    [theme=dark] .colab-df-convert {\n",
              "      background-color: #3B4455;\n",
              "      fill: #D2E3FC;\n",
              "    }\n",
              "\n",
              "    [theme=dark] .colab-df-convert:hover {\n",
              "      background-color: #434B5C;\n",
              "      box-shadow: 0px 1px 3px 1px rgba(0, 0, 0, 0.15);\n",
              "      filter: drop-shadow(0px 1px 2px rgba(0, 0, 0, 0.3));\n",
              "      fill: #FFFFFF;\n",
              "    }\n",
              "  </style>\n",
              "\n",
              "      <script>\n",
              "        const buttonEl =\n",
              "          document.querySelector('#df-c517b9f7-bd96-4f21-aa53-15cacc419cf9 button.colab-df-convert');\n",
              "        buttonEl.style.display =\n",
              "          google.colab.kernel.accessAllowed ? 'block' : 'none';\n",
              "\n",
              "        async function convertToInteractive(key) {\n",
              "          const element = document.querySelector('#df-c517b9f7-bd96-4f21-aa53-15cacc419cf9');\n",
              "          const dataTable =\n",
              "            await google.colab.kernel.invokeFunction('convertToInteractive',\n",
              "                                                     [key], {});\n",
              "          if (!dataTable) return;\n",
              "\n",
              "          const docLinkHtml = 'Like what you see? Visit the ' +\n",
              "            '<a target=\"_blank\" href=https://colab.research.google.com/notebooks/data_table.ipynb>data table notebook</a>'\n",
              "            + ' to learn more about interactive tables.';\n",
              "          element.innerHTML = '';\n",
              "          dataTable['output_type'] = 'display_data';\n",
              "          await google.colab.output.renderOutput(dataTable, element);\n",
              "          const docLink = document.createElement('div');\n",
              "          docLink.innerHTML = docLinkHtml;\n",
              "          element.appendChild(docLink);\n",
              "        }\n",
              "      </script>\n",
              "    </div>\n",
              "  </div>\n",
              "  "
            ]
          },
          "metadata": {},
          "execution_count": 45
        }
      ],
      "source": [
        "df.head()"
      ]
    },
    {
      "cell_type": "markdown",
      "metadata": {
        "id": "3LoFqDf5KvjE"
      },
      "source": [
        "**final features**"
      ]
    },
    {
      "cell_type": "code",
      "execution_count": 46,
      "metadata": {
        "colab": {
          "base_uri": "https://localhost:8080/"
        },
        "id": "n6C8dsycKceA",
        "outputId": "d33e1a04-3fe4-47ab-cb81-6ca5dd3a4ffa"
      },
      "outputs": [
        {
          "output_type": "execute_result",
          "data": {
            "text/plain": [
              "Index(['payment_method', 'car_type', 'day_of_year', 'day_of_week', 'hour',\n",
              "       'minutes', 'travel_from_distance', 'travel_from_time', 'Speed',\n",
              "       'travel_from_Awendo', 'travel_from_Homa Bay', 'travel_from_Kehancha',\n",
              "       'travel_from_Kendu Bay', 'travel_from_Keroka', 'travel_from_Keumbu',\n",
              "       'travel_from_Kijauri', 'travel_from_Kisii', 'travel_from_Mbita',\n",
              "       'travel_from_Migori', 'travel_from_Ndhiwa', 'travel_from_Nyachenge',\n",
              "       'travel_from_Oyugis', 'travel_from_Rodi', 'travel_from_Rongo',\n",
              "       'travel_from_Sirare', 'travel_from_Sori', 'month_1', 'month_2',\n",
              "       'month_3', 'day_of_month_1', 'day_of_month_2', 'day_of_month_3'],\n",
              "      dtype='object')"
            ]
          },
          "metadata": {},
          "execution_count": 46
        }
      ],
      "source": [
        "features_ = df.describe().columns\n",
        "features_"
      ]
    },
    {
      "cell_type": "code",
      "execution_count": 47,
      "metadata": {
        "colab": {
          "base_uri": "https://localhost:8080/"
        },
        "id": "q9xPDlUvXiuy",
        "outputId": "b06c068a-5892-4ac7-e693-b5182729e028"
      },
      "outputs": [
        {
          "output_type": "execute_result",
          "data": {
            "text/plain": [
              "32"
            ]
          },
          "metadata": {},
          "execution_count": 47
        }
      ],
      "source": [
        "features_.size"
      ]
    },
    {
      "cell_type": "code",
      "execution_count": 48,
      "metadata": {
        "id": "9jEmeDMiK5Wk"
      },
      "outputs": [],
      "source": [
        "df_pr = df[features_]"
      ]
    },
    {
      "cell_type": "code",
      "execution_count": 49,
      "metadata": {
        "id": "o-_rnmEMK8W8"
      },
      "outputs": [],
      "source": [
        "X = df_pr\n",
        "Y = dataset['number_of_tickets']"
      ]
    },
    {
      "cell_type": "markdown",
      "metadata": {
        "id": "g_cO8DGfl4iz"
      },
      "source": [
        "# Model Building"
      ]
    },
    {
      "cell_type": "code",
      "execution_count": 51,
      "metadata": {
        "id": "3Vx1krIDl44e"
      },
      "outputs": [],
      "source": [
        "from sklearn.model_selection import train_test_split\n",
        "from sklearn.preprocessing import MinMaxScaler\n",
        "from sklearn.metrics import mean_squared_error, r2_score\n",
        "from sklearn.linear_model import LinearRegression\n",
        "from sklearn.metrics import mean_squared_error, r2_score\n",
        "from sklearn.model_selection import GridSearchCV\n",
        "\n",
        "import time"
      ]
    },
    {
      "cell_type": "code",
      "source": [
        "from sklearn.preprocessing import StandardScaler\n",
        "\n",
        "scaler = StandardScaler()\n",
        "X[features_] = scaler.fit_transform(X)"
      ],
      "metadata": {
        "id": "ksRBI78MrTIZ"
      },
      "execution_count": 50,
      "outputs": []
    },
    {
      "cell_type": "code",
      "execution_count": 52,
      "metadata": {
        "id": "Whd1KWN2l-XJ"
      },
      "outputs": [],
      "source": [
        "X_train, X_test, y_train, y_test = train_test_split(X.values, Y.values, test_size= 0.3, random_state= 2, stratify=Y)"
      ]
    },
    {
      "cell_type": "code",
      "execution_count": 53,
      "metadata": {
        "colab": {
          "base_uri": "https://localhost:8080/"
        },
        "id": "BWMhXOz5mAHc",
        "outputId": "64dc86a0-e060-4311-f764-9525394b3ad4"
      },
      "outputs": [
        {
          "output_type": "stream",
          "name": "stdout",
          "text": [
            "(36033, 32)\n",
            "(15443, 32)\n"
          ]
        }
      ],
      "source": [
        "print(X_train.shape)\n",
        "print(X_test.shape)"
      ]
    },
    {
      "cell_type": "markdown",
      "metadata": {
        "id": "O4CQTynTm0tb"
      },
      "source": [
        "##Linear Regression\n",
        "\n",
        "\n",
        "---\n",
        "\n"
      ]
    },
    {
      "cell_type": "code",
      "execution_count": 54,
      "metadata": {
        "id": "kNoySHevmBbE"
      },
      "outputs": [],
      "source": [
        "begin = time.time()\n",
        "linear_reg = LinearRegression()\n",
        "linear_reg.fit(X_train, y_train)\n",
        "end = time.time()\n",
        "#Training Time\n",
        "lg_algo_training_time = end - begin"
      ]
    },
    {
      "cell_type": "code",
      "execution_count": 55,
      "metadata": {
        "id": "4Ikb1zRhmFD-"
      },
      "outputs": [],
      "source": [
        "#Training score\n",
        "linear_reg_score = linear_reg.score(X_train, y_train)"
      ]
    },
    {
      "cell_type": "code",
      "execution_count": 56,
      "metadata": {
        "id": "RZwERB8rmHYm"
      },
      "outputs": [],
      "source": [
        "lg_train_pred = linear_reg.predict(X_train)\n",
        "lg_test_pred = linear_reg.predict(X_test)"
      ]
    },
    {
      "cell_type": "code",
      "execution_count": 57,
      "metadata": {
        "id": "NWmD4o8PmKgJ"
      },
      "outputs": [],
      "source": [
        "def evaluate(given, predicted):\n",
        "  MSE = mean_squared_error(given, predicted)\n",
        "  RMSE = np.sqrt(mean_squared_error(given, predicted))\n",
        "\n",
        "  RMSPE = (RMSE / np.mean(y_train))*100\n",
        "  print('Mean Squre Error : ', MSE )\n",
        "\n",
        "  print('Root Mean Squre Error : ', RMSE)\n",
        "  print('Root Mean Squre Percentage Error : ', RMSPE)\n",
        "  print('R2 Score : ', r2_score( given, predicted))"
      ]
    },
    {
      "cell_type": "markdown",
      "metadata": {
        "id": "GgPq5Yj1mTkr"
      },
      "source": [
        "####Model Evalution"
      ]
    },
    {
      "cell_type": "code",
      "execution_count": 59,
      "metadata": {
        "colab": {
          "base_uri": "https://localhost:8080/"
        },
        "id": "EJhGH7Y6mQ85",
        "outputId": "cce4dadb-11a9-44eb-feff-8ee21aa6b5b8"
      },
      "outputs": [
        {
          "output_type": "stream",
          "name": "stdout",
          "text": [
            "Train Dataset\n",
            "-------------\n",
            "Mean Squre Error :  63.800308200567486\n",
            "Root Mean Squre Error :  7.987509511766949\n",
            "Root Mean Squre Percentage Error :  46.239477772627566\n",
            "R2 Score :  0.583693231956344\n",
            " \n",
            "Test Dataset\n",
            "-------------\n",
            "Mean Squre Error :  64.29627562403505\n",
            "Root Mean Squre Error :  8.01849584548343\n",
            "Root Mean Squre Percentage Error :  46.41885682526314\n",
            "R2 Score :  0.5805478562454287\n"
          ]
        }
      ],
      "source": [
        "print('Train Dataset')\n",
        "print('-------------')\n",
        "evaluate(y_train, lg_train_pred)\n",
        "print(' ')\n",
        "print('Test Dataset')\n",
        "print('-------------')\n",
        "evaluate(y_test, lg_test_pred)"
      ]
    },
    {
      "cell_type": "markdown",
      "metadata": {
        "id": "T8b6lIirnmv8"
      },
      "source": [
        "##Lasso Regression\n",
        "\n",
        "\n",
        "---"
      ]
    },
    {
      "cell_type": "code",
      "execution_count": 60,
      "metadata": {
        "id": "tkUiKRuTmkiW"
      },
      "outputs": [],
      "source": [
        "from sklearn.linear_model import Lasso\n",
        "lasso = Lasso()\n",
        "parameters = {'alpha': [1e-15,1e-13,1e-10,1e-8,1e-5,1e-4,1e-3,1e-2,1e-1,1,5,10,20,30,40,45,50,55,60,100,0.0014]}\n",
        "begin = time.time()\n",
        "lasso_reg = GridSearchCV(lasso, param_grid= parameters, scoring= 'neg_mean_squared_error', cv=5)\n",
        "lasso_reg.fit(X_train, y_train)\n",
        "end = time.time()\n",
        "#Training Time\n",
        "lasso_algo_training_time = end - begin"
      ]
    },
    {
      "cell_type": "code",
      "execution_count": 61,
      "metadata": {
        "colab": {
          "base_uri": "https://localhost:8080/"
        },
        "id": "c70OfAMKnolg",
        "outputId": "7f8cd3e6-81a9-47d8-f48a-045968a4a429"
      },
      "outputs": [
        {
          "output_type": "stream",
          "name": "stdout",
          "text": [
            "The best fit alpha value is found out to be : {'alpha': 0.01}\n",
            "\n",
            "Using  {'alpha': 0.01}  the negative mean squared error is:  -63.89888358708689\n"
          ]
        }
      ],
      "source": [
        "print(\"The best fit alpha value is found out to be :\" ,lasso_reg.best_params_)\n",
        "print(\"\\nUsing \",lasso_reg.best_params_, \" the negative mean squared error is: \", lasso_reg.best_score_)"
      ]
    },
    {
      "cell_type": "code",
      "execution_count": 62,
      "metadata": {
        "id": "YpuJpH7VasqU"
      },
      "outputs": [],
      "source": [
        "lasso_reg = lasso_reg.best_estimator_\n",
        "#Training Score\n",
        "lasso_score = lasso_reg.score(X_train, y_train)"
      ]
    },
    {
      "cell_type": "code",
      "execution_count": 63,
      "metadata": {
        "id": "cOgiK6X0r64r"
      },
      "outputs": [],
      "source": [
        "lasso_train_pred = lasso_reg.predict(X_train)\n",
        "lasso_test_pred = lasso_reg.predict(X_test)"
      ]
    },
    {
      "cell_type": "markdown",
      "metadata": {
        "id": "qzfIrulBr_2e"
      },
      "source": [
        "####Model Evaluation"
      ]
    },
    {
      "cell_type": "code",
      "execution_count": 64,
      "metadata": {
        "colab": {
          "base_uri": "https://localhost:8080/"
        },
        "id": "vo0lPFlNr9Uq",
        "outputId": "f0205b8e-cfde-4f73-f55b-257d05fcab34"
      },
      "outputs": [
        {
          "output_type": "stream",
          "name": "stdout",
          "text": [
            "Train Dataset\n",
            "-------------\n",
            "Mean Squre Error :  63.792656093926084\n",
            "Root Mean Squre Error :  7.98703049286317\n",
            "Root Mean Squre Percentage Error :  46.23670474507481\n",
            "R2 Score :  0.5837431631224224\n",
            " \n",
            "Test Dataset\n",
            "-------------\n",
            "Mean Squre Error :  64.30174810397365\n",
            "Root Mean Squre Error :  8.018837079276125\n",
            "Root Mean Squre Percentage Error :  46.42083221851298\n",
            "R2 Score :  0.5805121552126765\n"
          ]
        }
      ],
      "source": [
        "print('Train Dataset')\n",
        "print('-------------')\n",
        "evaluate(y_train, lasso_train_pred)\n",
        "print(' ')\n",
        "print('Test Dataset')\n",
        "print('-------------')\n",
        "evaluate(y_test, lasso_test_pred)"
      ]
    },
    {
      "cell_type": "markdown",
      "metadata": {
        "id": "nGSBbWd6slHt"
      },
      "source": [
        "## Ridge Regression\n",
        "\n",
        "\n",
        "---\n"
      ]
    },
    {
      "cell_type": "code",
      "execution_count": 65,
      "metadata": {
        "id": "gA7NdbkLsP0m"
      },
      "outputs": [],
      "source": [
        "from sklearn.linear_model import Ridge"
      ]
    },
    {
      "cell_type": "code",
      "execution_count": 66,
      "metadata": {
        "id": "wCGr0zwisqor"
      },
      "outputs": [],
      "source": [
        "ridge = Ridge()\n",
        "parameters = {'alpha': [1e-15,1e-10,1e-8,1e-5,1e-4,1e-3,1e-2,1,5,10,20,30,40,45,50,55,60,100]}\n",
        "begin = time.time()\n",
        "ridge_reg = GridSearchCV(ridge, param_grid= parameters, scoring= 'neg_mean_squared_error', cv=5)\n",
        "ridge_reg.fit(X_train, y_train)\n",
        "end = time.time()\n",
        "#Training Time\n",
        "ridge_algo_training_time = end - begin"
      ]
    },
    {
      "cell_type": "code",
      "execution_count": 67,
      "metadata": {
        "colab": {
          "base_uri": "https://localhost:8080/"
        },
        "id": "_te9Peqdsxf1",
        "outputId": "dcc4ef38-390f-4c1e-b673-442822c4ab98"
      },
      "outputs": [
        {
          "output_type": "stream",
          "name": "stdout",
          "text": [
            "The best fit alpha value is found out to be : {'alpha': 1e-10}\n",
            "\n",
            "Using  {'alpha': 1e-10}  the negative mean squared error is:  -63.89657258430267\n"
          ]
        }
      ],
      "source": [
        "print(\"The best fit alpha value is found out to be :\" ,ridge_reg.best_params_)\n",
        "print(\"\\nUsing \",ridge_reg.best_params_, \" the negative mean squared error is: \", ridge_reg.best_score_)"
      ]
    },
    {
      "cell_type": "code",
      "execution_count": 68,
      "metadata": {
        "id": "uXTyXWDKa9rU"
      },
      "outputs": [],
      "source": [
        "ridge_reg = ridge_reg.best_estimator_\n",
        "#ridge score\n",
        "ridge_score = ridge_reg.score(X_train, y_train)"
      ]
    },
    {
      "cell_type": "code",
      "execution_count": 69,
      "metadata": {
        "id": "BA1EAJcis0Ux"
      },
      "outputs": [],
      "source": [
        "ridge_train_pred = ridge_reg.predict(X_train)\n",
        "ridge_test_pred = ridge_reg.predict(X_test)"
      ]
    },
    {
      "cell_type": "markdown",
      "metadata": {
        "id": "JGawSCY6te5d"
      },
      "source": [
        "Model Evaluation"
      ]
    },
    {
      "cell_type": "code",
      "execution_count": 70,
      "metadata": {
        "colab": {
          "base_uri": "https://localhost:8080/"
        },
        "id": "YQ4xClJks2WJ",
        "outputId": "54fae55a-cb6a-4004-9808-b966a11d0a67"
      },
      "outputs": [
        {
          "output_type": "stream",
          "name": "stdout",
          "text": [
            "Train Dataset\n",
            "-------------\n",
            "Mean Squre Error :  63.79011320521438\n",
            "Root Mean Squre Error :  7.986871302657529\n",
            "Root Mean Squre Percentage Error :  46.23578319725512\n",
            "R2 Score :  0.5837597558601523\n",
            " \n",
            "Test Dataset\n",
            "-------------\n",
            "Mean Squre Error :  64.29491145914135\n",
            "Root Mean Squre Error :  8.018410781391868\n",
            "Root Mean Squre Percentage Error :  46.418364391524534\n",
            "R2 Score :  0.5805567557016343\n"
          ]
        }
      ],
      "source": [
        "print('Train Dataset')\n",
        "print('-------------')\n",
        "evaluate(y_train, ridge_train_pred)\n",
        "print(' ')\n",
        "print('Test Dataset')\n",
        "print('-------------')\n",
        "evaluate(y_test, ridge_test_pred)"
      ]
    },
    {
      "cell_type": "markdown",
      "metadata": {
        "id": "Ql5cHYBrtuq1"
      },
      "source": [
        "## Decision Tree"
      ]
    },
    {
      "cell_type": "code",
      "execution_count": 71,
      "metadata": {
        "id": "kqojwWq2tB3X"
      },
      "outputs": [],
      "source": [
        "from sklearn.tree import DecisionTreeRegressor, export_graphviz\n",
        "from sklearn import tree\n",
        "import graphviz"
      ]
    },
    {
      "cell_type": "code",
      "execution_count": 72,
      "metadata": {
        "colab": {
          "base_uri": "https://localhost:8080/"
        },
        "id": "wrsCbCyDtwiI",
        "outputId": "106c780d-83a6-4c2c-cbff-23edfaada75d"
      },
      "outputs": [
        {
          "output_type": "stream",
          "name": "stdout",
          "text": [
            "Fitting 2 folds for each of 36 candidates, totalling 72 fits\n"
          ]
        }
      ],
      "source": [
        "Dec_tree_reg = DecisionTreeRegressor(random_state=0)\n",
        "params = {\n",
        "    'criterion': [\"squared_error\", \"absolute_error\"],\n",
        "    'splitter' : [\"best\", \"random\"],\n",
        "    'max_depth' : [2, 6, 8],\n",
        "    'min_samples_split' : [2, 3, 4]\n",
        "}\n",
        "\n",
        "begin = time.time()\n",
        "Dec_tree_reg = GridSearchCV(Dec_tree_reg, param_grid= params,\n",
        "                            n_jobs=-1, verbose=1,\n",
        "                            scoring='r2', cv = 2)\n",
        "\n",
        "Dec_tree_reg.fit(X_train, y_train)\n",
        "end = time.time()\n",
        "#Training Time\n",
        "Dec_algo_training_time = end - begin"
      ]
    },
    {
      "cell_type": "code",
      "execution_count": 73,
      "metadata": {
        "colab": {
          "base_uri": "https://localhost:8080/"
        },
        "id": "vXhdhXouAJOX",
        "outputId": "09f87c9a-5c02-4cb6-8b6e-a6417d3d690a"
      },
      "outputs": [
        {
          "output_type": "stream",
          "name": "stdout",
          "text": [
            "The best fit Parameters value are found out to be : {'criterion': 'squared_error', 'max_depth': 8, 'min_samples_split': 3, 'splitter': 'best'}\n",
            "\n",
            "Using  {'criterion': 'squared_error', 'max_depth': 8, 'min_samples_split': 3, 'splitter': 'best'}  the r2 Score is:  0.7355177692489203\n"
          ]
        }
      ],
      "source": [
        "print(\"The best fit Parameters value are found out to be :\" ,Dec_tree_reg.best_params_)\n",
        "print(\"\\nUsing \",Dec_tree_reg.best_params_, \" the r2 Score is: \", Dec_tree_reg.best_score_)"
      ]
    },
    {
      "cell_type": "code",
      "execution_count": 74,
      "metadata": {
        "id": "BNjAnG7yAmdH"
      },
      "outputs": [],
      "source": [
        "DecTree_reg = Dec_tree_reg.best_estimator_\n",
        "#Training Score\n",
        "DecTree_Score = DecTree_reg.score(X_train, y_train)"
      ]
    },
    {
      "cell_type": "code",
      "execution_count": 75,
      "metadata": {
        "id": "1G-7eHxUK29T"
      },
      "outputs": [],
      "source": [
        "DecTree_reg_train_pred = DecTree_reg.predict(X_train)\n",
        "DecTree_reg_test_pred = DecTree_reg.predict(X_test)"
      ]
    },
    {
      "cell_type": "code",
      "execution_count": 76,
      "metadata": {
        "colab": {
          "base_uri": "https://localhost:8080/"
        },
        "id": "fsGKRWtFLCr0",
        "outputId": "10e1ab71-4160-4d65-ed83-8342c41436ae"
      },
      "outputs": [
        {
          "output_type": "stream",
          "name": "stdout",
          "text": [
            "Train Dataset\n",
            "-------------\n",
            "Mean Squre Error :  40.89764009679339\n",
            "Root Mean Squre Error :  6.395126276845\n",
            "Root Mean Squre Percentage Error :  37.021214046217295\n",
            "R2 Score :  0.7331366438578231\n",
            " \n",
            "Test Dataset\n",
            "-------------\n",
            "Mean Squre Error :  42.85869164772827\n",
            "Root Mean Squre Error :  6.546654996845967\n",
            "Root Mean Squre Percentage Error :  37.898409731565465\n",
            "R2 Score :  0.7204010665364948\n"
          ]
        }
      ],
      "source": [
        "print('Train Dataset')\n",
        "print('-------------')\n",
        "evaluate(y_train, DecTree_reg_train_pred)\n",
        "print(' ')\n",
        "print('Test Dataset')\n",
        "print('-------------')\n",
        "evaluate(y_test, DecTree_reg_test_pred)"
      ]
    },
    {
      "cell_type": "markdown",
      "metadata": {
        "id": "mrWmLm_1LqfG"
      },
      "source": [
        "## Random Forest "
      ]
    },
    {
      "cell_type": "code",
      "execution_count": 79,
      "metadata": {
        "id": "03tvieLr2hvT"
      },
      "outputs": [],
      "source": [
        "from sklearn.ensemble import RandomForestRegressor"
      ]
    },
    {
      "cell_type": "code",
      "execution_count": 80,
      "metadata": {
        "id": "A1864c8dLz6Z"
      },
      "outputs": [],
      "source": [
        "rd_forest_reg = RandomForestRegressor(random_state=42)\n",
        "param_grid = {\n",
        "           'max_features' : ['auto', 'sqrt'],\n",
        "            'max_depth': [10, 30, 50],\n",
        "            'min_samples_leaf': [1,2,4],\n",
        "            'min_samples_split': [2, 5, 10],\n",
        "            'bootstrap' : [True, False] \n",
        "}\n",
        "\n",
        "begin = time.time()\n",
        "rd_forest_reg = GridSearchCV(rd_forest_reg, param_grid= param_grid, scoring='r2', cv = 2)\n",
        "rd_forest_reg.fit(X_train, y_train)\n",
        "end = time.time()\n",
        "\n",
        "#Training Time\n",
        "rd_algo_training_time = end - begin"
      ]
    },
    {
      "cell_type": "code",
      "execution_count": 81,
      "metadata": {
        "colab": {
          "base_uri": "https://localhost:8080/"
        },
        "id": "lXjGoR5KL-vA",
        "outputId": "ca5c83f2-7def-4e53-b5ff-716eeea5680b"
      },
      "outputs": [
        {
          "output_type": "stream",
          "name": "stdout",
          "text": [
            "The best Perameters Value are : {'bootstrap': False, 'max_depth': 30, 'max_features': 'sqrt', 'min_samples_leaf': 1, 'min_samples_split': 2}\n",
            "By Using : {'bootstrap': False, 'max_depth': 30, 'max_features': 'sqrt', 'min_samples_leaf': 1, 'min_samples_split': 2} the r2 Score is : 0.9834599442166729\n"
          ]
        }
      ],
      "source": [
        "print(f'The best Perameters Value are : {rd_forest_reg.best_params_}')\n",
        "print(f'By Using : {rd_forest_reg.best_params_} the r2 Score is : {rd_forest_reg.best_score_}')"
      ]
    },
    {
      "cell_type": "code",
      "execution_count": 82,
      "metadata": {
        "id": "lEIeY3T3OkEv"
      },
      "outputs": [],
      "source": [
        "RD_forest = rd_forest_reg.best_estimator_\n",
        "#Training Score\n",
        "RD_forest_score = RD_forest.score(X_train, y_train)"
      ]
    },
    {
      "cell_type": "code",
      "execution_count": 83,
      "metadata": {
        "id": "CrmAz8D4PKiS"
      },
      "outputs": [],
      "source": [
        "RD_forest_train_pred = RD_forest.predict(X_train)\n",
        "RD_forest_test_pred = RD_forest.predict(X_test)"
      ]
    },
    {
      "cell_type": "code",
      "execution_count": 85,
      "metadata": {
        "colab": {
          "base_uri": "https://localhost:8080/"
        },
        "id": "yN2sHJ_0PQwc",
        "outputId": "dca58421-aff3-4acf-bb7c-b890cc40c8f9"
      },
      "outputs": [
        {
          "output_type": "stream",
          "name": "stdout",
          "text": [
            "Train Dataset\n",
            "-------------\n",
            "Mean Squre Error :  2.553194078569212e-05\n",
            "Root Mean Squre Error :  0.0050529140884931064\n",
            "Root Mean Squre Percentage Error :  0.029251183781086768\n",
            "R2 Score :  0.9999998334001817\n",
            " \n",
            "Test Dataset\n",
            "-------------\n",
            "Mean Squre Error :  0.8256520881322833\n",
            "Root Mean Squre Error :  0.9086539980280081\n",
            "Root Mean Squre Percentage Error :  5.260173560097682\n",
            "R2 Score :  0.9946136609780075\n"
          ]
        }
      ],
      "source": [
        "print('Train Dataset')\n",
        "print('-------------')\n",
        "evaluate(y_train, RD_forest_train_pred)\n",
        "print(' ')\n",
        "print('Test Dataset')\n",
        "print('-------------')\n",
        "evaluate(y_test, RD_forest_test_pred)"
      ]
    },
    {
      "cell_type": "markdown",
      "metadata": {
        "id": "qb5rVgqyT71P"
      },
      "source": [
        "# Gradient Boosting Regressor"
      ]
    },
    {
      "cell_type": "code",
      "execution_count": 86,
      "metadata": {
        "id": "hKDtv8EHPbyi"
      },
      "outputs": [],
      "source": [
        "from sklearn.ensemble import GradientBoostingRegressor\n",
        "\n",
        "GBM_reg = GradientBoostingRegressor(min_samples_leaf=50, max_depth=8, random_state= 42)\n",
        "param_grid = {\n",
        "    'learning_rate':[0.01, 0.1, 0.2],\n",
        "    'max_depth' : [4, 8, 12],\n",
        "    'min_samples_split' : [4, 6, 8],\n",
        "    'min_samples_leaf' : [2, 5, 7],\n",
        "    'max_features' :  ['auto', 'sqrt']\n",
        "}\n",
        "\n",
        "begin = time.time()\n",
        "GBM_reg = GridSearchCV(GBM_reg, param_grid= param_grid, scoring= 'neg_mean_squared_error', cv = 2)\n",
        "\n",
        "GBM_reg.fit(X_train, y_train)\n",
        "\n",
        "end = time.time()\n",
        "\n",
        "#training Time\n",
        "GBM_Training_time = end - begin"
      ]
    },
    {
      "cell_type": "code",
      "execution_count": 87,
      "metadata": {
        "colab": {
          "base_uri": "https://localhost:8080/"
        },
        "id": "NYoEtQTVfBlK",
        "outputId": "49735579-60fd-4906-dd71-edd3cb653a09"
      },
      "outputs": [
        {
          "output_type": "stream",
          "name": "stdout",
          "text": [
            "The best Perameters Value are : {'learning_rate': 0.2, 'max_depth': 12, 'max_features': 'auto', 'min_samples_leaf': 2, 'min_samples_split': 4}\n",
            "Bu Using : {'learning_rate': 0.2, 'max_depth': 12, 'max_features': 'auto', 'min_samples_leaf': 2, 'min_samples_split': 4} the neg_mean_squared_error is : -2.7267507730274065\n"
          ]
        }
      ],
      "source": [
        "print(f'The best Perameters Value are : {GBM_reg.best_params_}')\n",
        "print(f'Bu Using : {GBM_reg.best_params_} the neg_mean_squared_error is : {GBM_reg.best_score_}')"
      ]
    },
    {
      "cell_type": "code",
      "execution_count": 88,
      "metadata": {
        "id": "IvrIQ6vkeiJw"
      },
      "outputs": [],
      "source": [
        "GBM_reg = GBM_reg.best_estimator_\n",
        "\n",
        "#Training Score\n",
        "GBM_score = GBM_reg.score(X_train, y_train)"
      ]
    },
    {
      "cell_type": "code",
      "execution_count": 89,
      "metadata": {
        "id": "rtJoIWgLepN5"
      },
      "outputs": [],
      "source": [
        "GBM_reg_train_pred = GBM_reg.predict(X_train)\n",
        "GBM_reg_test_pred = GBM_reg.predict(X_test)"
      ]
    },
    {
      "cell_type": "code",
      "execution_count": 90,
      "metadata": {
        "colab": {
          "base_uri": "https://localhost:8080/"
        },
        "id": "3ezOTj5vesiL",
        "outputId": "d9856b98-d0ce-432f-e155-da7f55e3ddb4"
      },
      "outputs": [
        {
          "output_type": "stream",
          "name": "stdout",
          "text": [
            "Train Dataset\n",
            "-------------\n",
            "Mean Squre Error :  0.195987622095233\n",
            "Root Mean Squre Error :  0.4427048927843841\n",
            "Root Mean Squre Percentage Error :  2.56280671961399\n",
            "R2 Score :  0.9987211507932763\n",
            " \n",
            "Test Dataset\n",
            "-------------\n",
            "Mean Squre Error :  1.1680295333153778\n",
            "Root Mean Squre Error :  1.0807541502651645\n",
            "Root Mean Squre Percentage Error :  6.256456713477669\n",
            "R2 Score :  0.9923800797641436\n"
          ]
        }
      ],
      "source": [
        "print('Train Dataset')\n",
        "print('-------------')\n",
        "evaluate(y_train, GBM_reg_train_pred)\n",
        "print(' ')\n",
        "print('Test Dataset')\n",
        "print('-------------')\n",
        "evaluate(y_test, GBM_reg_test_pred)"
      ]
    },
    {
      "cell_type": "markdown",
      "metadata": {
        "id": "nIHVey68hmpf"
      },
      "source": [
        "#XGBoost"
      ]
    },
    {
      "cell_type": "code",
      "execution_count": 91,
      "metadata": {
        "id": "DrBH9jxIhThm"
      },
      "outputs": [],
      "source": [
        "from xgboost import XGBRegressor\n",
        "\n",
        "XGB_reg = XGBRegressor(random_state= 42, verbosity= 0)\n",
        "param_grid = {\n",
        "    'gamma' : [2, 5, 8],\n",
        "    'reg_alpha' : [10, 20, 35],\n",
        "    'colsample_bytree' : [0.5, 1], \n",
        "    'max_depth': [7,12,18],\n",
        "    'n_estimators' : [180]\n",
        "    }\n",
        "\n",
        "begin = time.time()\n",
        "XGB_reg = GridSearchCV(XGB_reg, param_grid= param_grid, scoring= 'neg_mean_squared_error', cv = 2)\n",
        "\n",
        "XGB_reg.fit(X_train, y_train)\n",
        "end = time.time()\n",
        "\n",
        "#Training Time\n",
        "XGB_algo_training_time = end - begin"
      ]
    },
    {
      "cell_type": "code",
      "execution_count": 92,
      "metadata": {
        "id": "cixs4GClnJKw",
        "colab": {
          "base_uri": "https://localhost:8080/"
        },
        "outputId": "a1a87cb4-da00-426a-b941-24d0c652fa47"
      },
      "outputs": [
        {
          "output_type": "execute_result",
          "data": {
            "text/plain": [
              "{'base_score': 0.5,\n",
              " 'booster': 'gbtree',\n",
              " 'colsample_bylevel': 1,\n",
              " 'colsample_bynode': 1,\n",
              " 'colsample_bytree': 1,\n",
              " 'gamma': 2,\n",
              " 'importance_type': 'gain',\n",
              " 'learning_rate': 0.1,\n",
              " 'max_delta_step': 0,\n",
              " 'max_depth': 18,\n",
              " 'min_child_weight': 1,\n",
              " 'missing': None,\n",
              " 'n_estimators': 180,\n",
              " 'n_jobs': 1,\n",
              " 'nthread': None,\n",
              " 'objective': 'reg:linear',\n",
              " 'random_state': 42,\n",
              " 'reg_alpha': 10,\n",
              " 'reg_lambda': 1,\n",
              " 'scale_pos_weight': 1,\n",
              " 'seed': None,\n",
              " 'silent': None,\n",
              " 'subsample': 1,\n",
              " 'verbosity': 0}"
            ]
          },
          "metadata": {},
          "execution_count": 92
        }
      ],
      "source": [
        "XGB_reg.best_estimator_.get_params()"
      ]
    },
    {
      "cell_type": "code",
      "execution_count": 93,
      "metadata": {
        "id": "n68asP-ymyCY"
      },
      "outputs": [],
      "source": [
        "XGB_reg = XGB_reg.best_estimator_\n",
        "\n",
        "#XGB Score\n",
        "XGB_score = XGB_reg.score(X_train, y_train)"
      ]
    },
    {
      "cell_type": "code",
      "execution_count": 94,
      "metadata": {
        "id": "TIJspRf4kpsY"
      },
      "outputs": [],
      "source": [
        "XGB_reg_train_pred = XGB_reg.predict(X_train)\n",
        "XGB_reg_test_pred = XGB_reg.predict(X_test)"
      ]
    },
    {
      "cell_type": "code",
      "execution_count": 95,
      "metadata": {
        "id": "wVboKop6mYxf",
        "colab": {
          "base_uri": "https://localhost:8080/"
        },
        "outputId": "0a1649b3-bd41-49bc-d850-a00b1ed20936"
      },
      "outputs": [
        {
          "output_type": "stream",
          "name": "stdout",
          "text": [
            "Train Dataset\n",
            "-------------\n",
            "Mean Squre Error :  0.5098815925489988\n",
            "Root Mean Squre Error :  0.7140599362441494\n",
            "Root Mean Squre Percentage Error :  4.1336737692323835\n",
            "R2 Score :  0.9966729446319957\n",
            " \n",
            "Test Dataset\n",
            "-------------\n",
            "Mean Squre Error :  1.458091929823218\n",
            "Root Mean Squre Error :  1.207514774163537\n",
            "Root Mean Squre Percentage Error :  6.990270556523296\n",
            "R2 Score :  0.9904877882922513\n"
          ]
        }
      ],
      "source": [
        "print('Train Dataset')\n",
        "print('-------------')\n",
        "evaluate(y_train, XGB_reg_train_pred)\n",
        "print(' ')\n",
        "print('Test Dataset')\n",
        "print('-------------')\n",
        "evaluate(y_test, XGB_reg_test_pred)"
      ]
    },
    {
      "cell_type": "markdown",
      "metadata": {
        "id": "hK4q61LqsfUc"
      },
      "source": [
        "#Model Validation"
      ]
    },
    {
      "cell_type": "code",
      "execution_count": 98,
      "metadata": {
        "id": "gi2AzCC8z75I"
      },
      "outputs": [],
      "source": [
        "Performance_ = pd.DataFrame(columns=['Algorithum', 'Dataset', 'MSE', 'RMSE', 'R2_Score', 'Adjecent_R2'])\n",
        "algos = [linear_reg, lasso_reg, ridge_reg, Dec_tree_reg, rd_forest_reg, GBM_reg, XGB_reg]\n",
        "algo_name = ['LinearRegression', 'LassoRegression', 'RidgeRegression', 'Decision Tree', 'Random Forest', 'Gradient Boosting', 'XGBoosting']\n",
        "Datasets_ = ['Train_set', 'Test_set']\n",
        "\n",
        "for i in Datasets_:\n",
        "  for j, v in enumerate(algo_name):\n",
        "    if i == 'Train_set':\n",
        "      y_pred = algos[j].predict(X_train)\n",
        "      MSE = round(mean_squared_error(y_train, y_pred), 2)\n",
        "      RMSE = round(np.sqrt(MSE), 2)\n",
        "      R2 = round(r2_score(y_train, y_pred), 2)\n",
        "      adj_r2 = round(1-(1-r2_score(y_train, y_pred))*((X_train.shape[0]-1)/(X_train.shape[0]-X_train.shape[1]-1)), 2)\n",
        "      Performance_ = Performance_.append({'Algorithum': v , 'Dataset': i, 'MSE': MSE, \n",
        "                                            'RMSE': RMSE,'R2_Score': R2,'Adjecent_R2': adj_r2}, ignore_index= True)\n",
        "    else:\n",
        "      y_pred = algos[j].predict(X_test)\n",
        "      MSE = round(mean_squared_error(y_test, y_pred), 2)\n",
        "      RMSE = round(np.sqrt(MSE),2)\n",
        "      R2 = round(r2_score(y_test, y_pred), 2)\n",
        "      adj_r2 = round(1-(1-r2_score(y_test, y_pred))*((X_test.shape[0]-1)/(X_test.shape[0]-X_test.shape[1]-1)), 2)\n",
        "      Performance_ = Performance_.append({'Algorithum': v , 'Dataset': i, 'MSE': MSE, \n",
        "                                            'RMSE': RMSE,'R2_Score': R2,'Adjecent_R2': adj_r2}, ignore_index= True)    "
      ]
    },
    {
      "cell_type": "code",
      "execution_count": 99,
      "metadata": {
        "id": "C5GuxMco7CUm",
        "colab": {
          "base_uri": "https://localhost:8080/",
          "height": 331
        },
        "outputId": "215db983-89cf-4220-93a0-7a07d615b5ef"
      },
      "outputs": [
        {
          "output_type": "execute_result",
          "data": {
            "text/plain": [
              "                       MSE               RMSE           R2_Score            \\\n",
              "Dataset           Test_set Train_set Test_set Train_set Test_set Train_set   \n",
              "Algorithum                                                                   \n",
              "Decision Tree        42.86     40.90     6.55      6.40     0.72      0.73   \n",
              "Gradient Boosting     1.17      0.20     1.08      0.45     0.99      1.00   \n",
              "LassoRegression      64.30     63.79     8.02      7.99     0.58      0.58   \n",
              "LinearRegression     64.30     63.80     8.02      7.99     0.58      0.58   \n",
              "Random Forest         0.83      0.00     0.91      0.00     0.99      1.00   \n",
              "RidgeRegression      64.29     63.79     8.02      7.99     0.58      0.58   \n",
              "XGBoosting            1.46      0.51     1.21      0.71     0.99      1.00   \n",
              "\n",
              "                  Adjecent_R2            \n",
              "Dataset              Test_set Train_set  \n",
              "Algorithum                               \n",
              "Decision Tree            0.72      0.73  \n",
              "Gradient Boosting        0.99      1.00  \n",
              "LassoRegression          0.58      0.58  \n",
              "LinearRegression         0.58      0.58  \n",
              "Random Forest            0.99      1.00  \n",
              "RidgeRegression          0.58      0.58  \n",
              "XGBoosting               0.99      1.00  "
            ],
            "text/html": [
              "\n",
              "  <div id=\"df-eafce07f-ae0d-49f4-968f-e31a3b419df6\">\n",
              "    <div class=\"colab-df-container\">\n",
              "      <div>\n",
              "<style scoped>\n",
              "    .dataframe tbody tr th:only-of-type {\n",
              "        vertical-align: middle;\n",
              "    }\n",
              "\n",
              "    .dataframe tbody tr th {\n",
              "        vertical-align: top;\n",
              "    }\n",
              "\n",
              "    .dataframe thead tr th {\n",
              "        text-align: left;\n",
              "    }\n",
              "\n",
              "    .dataframe thead tr:last-of-type th {\n",
              "        text-align: right;\n",
              "    }\n",
              "</style>\n",
              "<table border=\"1\" class=\"dataframe\">\n",
              "  <thead>\n",
              "    <tr>\n",
              "      <th></th>\n",
              "      <th colspan=\"2\" halign=\"left\">MSE</th>\n",
              "      <th colspan=\"2\" halign=\"left\">RMSE</th>\n",
              "      <th colspan=\"2\" halign=\"left\">R2_Score</th>\n",
              "      <th colspan=\"2\" halign=\"left\">Adjecent_R2</th>\n",
              "    </tr>\n",
              "    <tr>\n",
              "      <th>Dataset</th>\n",
              "      <th>Test_set</th>\n",
              "      <th>Train_set</th>\n",
              "      <th>Test_set</th>\n",
              "      <th>Train_set</th>\n",
              "      <th>Test_set</th>\n",
              "      <th>Train_set</th>\n",
              "      <th>Test_set</th>\n",
              "      <th>Train_set</th>\n",
              "    </tr>\n",
              "    <tr>\n",
              "      <th>Algorithum</th>\n",
              "      <th></th>\n",
              "      <th></th>\n",
              "      <th></th>\n",
              "      <th></th>\n",
              "      <th></th>\n",
              "      <th></th>\n",
              "      <th></th>\n",
              "      <th></th>\n",
              "    </tr>\n",
              "  </thead>\n",
              "  <tbody>\n",
              "    <tr>\n",
              "      <th>Decision Tree</th>\n",
              "      <td>42.86</td>\n",
              "      <td>40.90</td>\n",
              "      <td>6.55</td>\n",
              "      <td>6.40</td>\n",
              "      <td>0.72</td>\n",
              "      <td>0.73</td>\n",
              "      <td>0.72</td>\n",
              "      <td>0.73</td>\n",
              "    </tr>\n",
              "    <tr>\n",
              "      <th>Gradient Boosting</th>\n",
              "      <td>1.17</td>\n",
              "      <td>0.20</td>\n",
              "      <td>1.08</td>\n",
              "      <td>0.45</td>\n",
              "      <td>0.99</td>\n",
              "      <td>1.00</td>\n",
              "      <td>0.99</td>\n",
              "      <td>1.00</td>\n",
              "    </tr>\n",
              "    <tr>\n",
              "      <th>LassoRegression</th>\n",
              "      <td>64.30</td>\n",
              "      <td>63.79</td>\n",
              "      <td>8.02</td>\n",
              "      <td>7.99</td>\n",
              "      <td>0.58</td>\n",
              "      <td>0.58</td>\n",
              "      <td>0.58</td>\n",
              "      <td>0.58</td>\n",
              "    </tr>\n",
              "    <tr>\n",
              "      <th>LinearRegression</th>\n",
              "      <td>64.30</td>\n",
              "      <td>63.80</td>\n",
              "      <td>8.02</td>\n",
              "      <td>7.99</td>\n",
              "      <td>0.58</td>\n",
              "      <td>0.58</td>\n",
              "      <td>0.58</td>\n",
              "      <td>0.58</td>\n",
              "    </tr>\n",
              "    <tr>\n",
              "      <th>Random Forest</th>\n",
              "      <td>0.83</td>\n",
              "      <td>0.00</td>\n",
              "      <td>0.91</td>\n",
              "      <td>0.00</td>\n",
              "      <td>0.99</td>\n",
              "      <td>1.00</td>\n",
              "      <td>0.99</td>\n",
              "      <td>1.00</td>\n",
              "    </tr>\n",
              "    <tr>\n",
              "      <th>RidgeRegression</th>\n",
              "      <td>64.29</td>\n",
              "      <td>63.79</td>\n",
              "      <td>8.02</td>\n",
              "      <td>7.99</td>\n",
              "      <td>0.58</td>\n",
              "      <td>0.58</td>\n",
              "      <td>0.58</td>\n",
              "      <td>0.58</td>\n",
              "    </tr>\n",
              "    <tr>\n",
              "      <th>XGBoosting</th>\n",
              "      <td>1.46</td>\n",
              "      <td>0.51</td>\n",
              "      <td>1.21</td>\n",
              "      <td>0.71</td>\n",
              "      <td>0.99</td>\n",
              "      <td>1.00</td>\n",
              "      <td>0.99</td>\n",
              "      <td>1.00</td>\n",
              "    </tr>\n",
              "  </tbody>\n",
              "</table>\n",
              "</div>\n",
              "      <button class=\"colab-df-convert\" onclick=\"convertToInteractive('df-eafce07f-ae0d-49f4-968f-e31a3b419df6')\"\n",
              "              title=\"Convert this dataframe to an interactive table.\"\n",
              "              style=\"display:none;\">\n",
              "        \n",
              "  <svg xmlns=\"http://www.w3.org/2000/svg\" height=\"24px\"viewBox=\"0 0 24 24\"\n",
              "       width=\"24px\">\n",
              "    <path d=\"M0 0h24v24H0V0z\" fill=\"none\"/>\n",
              "    <path d=\"M18.56 5.44l.94 2.06.94-2.06 2.06-.94-2.06-.94-.94-2.06-.94 2.06-2.06.94zm-11 1L8.5 8.5l.94-2.06 2.06-.94-2.06-.94L8.5 2.5l-.94 2.06-2.06.94zm10 10l.94 2.06.94-2.06 2.06-.94-2.06-.94-.94-2.06-.94 2.06-2.06.94z\"/><path d=\"M17.41 7.96l-1.37-1.37c-.4-.4-.92-.59-1.43-.59-.52 0-1.04.2-1.43.59L10.3 9.45l-7.72 7.72c-.78.78-.78 2.05 0 2.83L4 21.41c.39.39.9.59 1.41.59.51 0 1.02-.2 1.41-.59l7.78-7.78 2.81-2.81c.8-.78.8-2.07 0-2.86zM5.41 20L4 18.59l7.72-7.72 1.47 1.35L5.41 20z\"/>\n",
              "  </svg>\n",
              "      </button>\n",
              "      \n",
              "  <style>\n",
              "    .colab-df-container {\n",
              "      display:flex;\n",
              "      flex-wrap:wrap;\n",
              "      gap: 12px;\n",
              "    }\n",
              "\n",
              "    .colab-df-convert {\n",
              "      background-color: #E8F0FE;\n",
              "      border: none;\n",
              "      border-radius: 50%;\n",
              "      cursor: pointer;\n",
              "      display: none;\n",
              "      fill: #1967D2;\n",
              "      height: 32px;\n",
              "      padding: 0 0 0 0;\n",
              "      width: 32px;\n",
              "    }\n",
              "\n",
              "    .colab-df-convert:hover {\n",
              "      background-color: #E2EBFA;\n",
              "      box-shadow: 0px 1px 2px rgba(60, 64, 67, 0.3), 0px 1px 3px 1px rgba(60, 64, 67, 0.15);\n",
              "      fill: #174EA6;\n",
              "    }\n",
              "\n",
              "    [theme=dark] .colab-df-convert {\n",
              "      background-color: #3B4455;\n",
              "      fill: #D2E3FC;\n",
              "    }\n",
              "\n",
              "    [theme=dark] .colab-df-convert:hover {\n",
              "      background-color: #434B5C;\n",
              "      box-shadow: 0px 1px 3px 1px rgba(0, 0, 0, 0.15);\n",
              "      filter: drop-shadow(0px 1px 2px rgba(0, 0, 0, 0.3));\n",
              "      fill: #FFFFFF;\n",
              "    }\n",
              "  </style>\n",
              "\n",
              "      <script>\n",
              "        const buttonEl =\n",
              "          document.querySelector('#df-eafce07f-ae0d-49f4-968f-e31a3b419df6 button.colab-df-convert');\n",
              "        buttonEl.style.display =\n",
              "          google.colab.kernel.accessAllowed ? 'block' : 'none';\n",
              "\n",
              "        async function convertToInteractive(key) {\n",
              "          const element = document.querySelector('#df-eafce07f-ae0d-49f4-968f-e31a3b419df6');\n",
              "          const dataTable =\n",
              "            await google.colab.kernel.invokeFunction('convertToInteractive',\n",
              "                                                     [key], {});\n",
              "          if (!dataTable) return;\n",
              "\n",
              "          const docLinkHtml = 'Like what you see? Visit the ' +\n",
              "            '<a target=\"_blank\" href=https://colab.research.google.com/notebooks/data_table.ipynb>data table notebook</a>'\n",
              "            + ' to learn more about interactive tables.';\n",
              "          element.innerHTML = '';\n",
              "          dataTable['output_type'] = 'display_data';\n",
              "          await google.colab.output.renderOutput(dataTable, element);\n",
              "          const docLink = document.createElement('div');\n",
              "          docLink.innerHTML = docLinkHtml;\n",
              "          element.appendChild(docLink);\n",
              "        }\n",
              "      </script>\n",
              "    </div>\n",
              "  </div>\n",
              "  "
            ]
          },
          "metadata": {},
          "execution_count": 99
        }
      ],
      "source": [
        "#Algorithum vise Performance Trable\n",
        "perf_pivot = Performance_.pivot(index='Algorithum', columns=['Dataset'])\n",
        "perf_pivot"
      ]
    },
    {
      "cell_type": "code",
      "source": [],
      "metadata": {
        "id": "72bGiBBDovGC"
      },
      "execution_count": null,
      "outputs": []
    }
  ],
  "metadata": {
    "colab": {
      "provenance": [],
      "authorship_tag": "ABX9TyOfTXD3Ip4+x+yp5NOPLNUj"
    },
    "kernelspec": {
      "display_name": "Python 3",
      "name": "python3"
    },
    "language_info": {
      "name": "python"
    }
  },
  "nbformat": 4,
  "nbformat_minor": 0
}