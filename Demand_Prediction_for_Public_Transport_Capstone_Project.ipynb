{
  "nbformat": 4,
  "nbformat_minor": 0,
  "metadata": {
    "colab": {
      "provenance": [],
      "authorship_tag": "ABX9TyNBSOhvJ+Evav9E5u0wvW3S"
    },
    "kernelspec": {
      "name": "python3",
      "display_name": "Python 3"
    },
    "language_info": {
      "name": "python"
    }
  },
  "cells": [
    {
      "cell_type": "markdown",
      "source": [
        "# <b><u> Project Title : Traffic Jam: Predicting People's Movement into Nairobi </u></b>"
      ],
      "metadata": {
        "id": "xyoavgvdEF9U"
      }
    },
    {
      "cell_type": "markdown",
      "source": [
        "## <b> Problem Description </b>\n",
        "\n",
        "### This challenge asks you to build a model that predicts the number of seats that Mobiticket can expect to sell for each ride, i.e. for a specific route on a specific date and time. There are 14 routes in this dataset. All of the routes end in Nairobi and originate in towns to the North-West of Nairobi towards Lake Victoria.\n",
        "\n",
        "\n",
        "### The towns from which these routes originate are:\n",
        "\n",
        "* Awendo\n",
        "* Homa Bay\n",
        "* Kehancha\n",
        "* Kendu Bay\n",
        "* Keroka\n",
        "* Keumbu\n",
        "* Kijauri\n",
        "* Kisii\n",
        "* Mbita\n",
        "* Migori\n",
        "* Ndhiwa\n",
        "* Nyachenge\n",
        "* Oyugis\n",
        "* Rodi\n",
        "* Rongo\n",
        "* Sirare\n",
        "* Sori\n",
        "\n",
        "### The routes from these 14 origins to the first stop in the outskirts of Nairobi takes approximately 8 to 9 hours from time of departure. From the first stop in the outskirts of Nairobi into the main bus terminal, where most passengers get off, in Central Business District, takes another 2 to 3 hours depending on traffic.\n",
        "\n",
        "### The three stops that all these routes make in Nairobi (in order) are:\n",
        "\n",
        "1. Kawangware: the first stop in the outskirts of Nairobi\n",
        "2. Westlands\n",
        "3. Afya Centre: the main bus terminal where most passengers disembark\n",
        "\n",
        "### All of these points are mapped [here](https://www.google.com/maps/d/viewer?mid=1Ef2pFdP8keVHHid8bwju2raoRvjOGagN&ll=-0.8281897101491997%2C35.51706279999996&z=8).\n",
        "\n",
        "### Passengers of these bus (or shuttle) rides are affected by Nairobi traffic not only during their ride into the city, but from there they must continue their journey to their final destination in Nairobi wherever that may be. Traffic can act as a deterrent for those who have the option to avoid buses that arrive in Nairobi during peak traffic hours. On the other hand, traffic may be an indication for people’s movement patterns, reflecting business hours, cultural events, political events, and holidays."
      ],
      "metadata": {
        "id": "IxRCojU6EJhW"
      }
    },
    {
      "cell_type": "code",
      "execution_count": 1,
      "metadata": {
        "id": "AqQHz6AiDhQc"
      },
      "outputs": [],
      "source": [
        "##importing libraries\n",
        "import numpy as np\n",
        "import pandas as pd\n",
        "import matplotlib.pyplot as plt\n",
        "import seaborn as sns\n",
        "sns.set_style(\"darkgrid\")\n",
        "\n",
        "import warnings\n",
        "warnings.filterwarnings('ignore')"
      ]
    },
    {
      "cell_type": "code",
      "source": [
        "pd.set_option('display.max_columns', None)"
      ],
      "metadata": {
        "id": "OmR7gu9JEND-"
      },
      "execution_count": 2,
      "outputs": []
    },
    {
      "cell_type": "code",
      "source": [
        "from google.colab import drive\n",
        "drive.mount('/content/drive')"
      ],
      "metadata": {
        "colab": {
          "base_uri": "https://localhost:8080/"
        },
        "id": "YAlGztVjEOSk",
        "outputId": "e2d3f538-03e2-4e65-97ee-de24a27ad764"
      },
      "execution_count": 3,
      "outputs": [
        {
          "output_type": "stream",
          "name": "stdout",
          "text": [
            "Mounted at /content/drive\n"
          ]
        }
      ]
    },
    {
      "cell_type": "code",
      "source": [
        "dataset = pd.read_csv('/content/drive/MyDrive/AlmaBetter/Capstons Projects/Supervised ML (Regression) - Capstone Project/train_revised.csv')"
      ],
      "metadata": {
        "id": "hp0Eji3DEPlH"
      },
      "execution_count": 4,
      "outputs": []
    },
    {
      "cell_type": "code",
      "source": [
        "dataset.head()"
      ],
      "metadata": {
        "colab": {
          "base_uri": "https://localhost:8080/",
          "height": 206
        },
        "id": "tkiIwQ4rEX3j",
        "outputId": "7e0032da-c648-403b-db77-ba889e28243a"
      },
      "execution_count": 5,
      "outputs": [
        {
          "output_type": "execute_result",
          "data": {
            "text/plain": [
              "   ride_id seat_number payment_method payment_receipt travel_date travel_time  \\\n",
              "0     1442         15A          Mpesa      UZUEHCBUSO    17-10-17        7:15   \n",
              "1     5437         14A          Mpesa      TIHLBUSGTE    19-11-17        7:12   \n",
              "2     5710          8B          Mpesa      EQX8Q5G19O    26-11-17        7:05   \n",
              "3     5777         19A          Mpesa      SGP18CL0ME    27-11-17        7:10   \n",
              "4     5778         11A          Mpesa      BM97HFRGL9    27-11-17        7:12   \n",
              "\n",
              "  travel_from travel_to car_type  max_capacity  \n",
              "0      Migori   Nairobi      Bus            49  \n",
              "1      Migori   Nairobi      Bus            49  \n",
              "2      Keroka   Nairobi      Bus            49  \n",
              "3    Homa Bay   Nairobi      Bus            49  \n",
              "4      Migori   Nairobi      Bus            49  "
            ],
            "text/html": [
              "\n",
              "  <div id=\"df-cc13245c-adb4-4cf4-b30e-cd714b0305d1\">\n",
              "    <div class=\"colab-df-container\">\n",
              "      <div>\n",
              "<style scoped>\n",
              "    .dataframe tbody tr th:only-of-type {\n",
              "        vertical-align: middle;\n",
              "    }\n",
              "\n",
              "    .dataframe tbody tr th {\n",
              "        vertical-align: top;\n",
              "    }\n",
              "\n",
              "    .dataframe thead th {\n",
              "        text-align: right;\n",
              "    }\n",
              "</style>\n",
              "<table border=\"1\" class=\"dataframe\">\n",
              "  <thead>\n",
              "    <tr style=\"text-align: right;\">\n",
              "      <th></th>\n",
              "      <th>ride_id</th>\n",
              "      <th>seat_number</th>\n",
              "      <th>payment_method</th>\n",
              "      <th>payment_receipt</th>\n",
              "      <th>travel_date</th>\n",
              "      <th>travel_time</th>\n",
              "      <th>travel_from</th>\n",
              "      <th>travel_to</th>\n",
              "      <th>car_type</th>\n",
              "      <th>max_capacity</th>\n",
              "    </tr>\n",
              "  </thead>\n",
              "  <tbody>\n",
              "    <tr>\n",
              "      <th>0</th>\n",
              "      <td>1442</td>\n",
              "      <td>15A</td>\n",
              "      <td>Mpesa</td>\n",
              "      <td>UZUEHCBUSO</td>\n",
              "      <td>17-10-17</td>\n",
              "      <td>7:15</td>\n",
              "      <td>Migori</td>\n",
              "      <td>Nairobi</td>\n",
              "      <td>Bus</td>\n",
              "      <td>49</td>\n",
              "    </tr>\n",
              "    <tr>\n",
              "      <th>1</th>\n",
              "      <td>5437</td>\n",
              "      <td>14A</td>\n",
              "      <td>Mpesa</td>\n",
              "      <td>TIHLBUSGTE</td>\n",
              "      <td>19-11-17</td>\n",
              "      <td>7:12</td>\n",
              "      <td>Migori</td>\n",
              "      <td>Nairobi</td>\n",
              "      <td>Bus</td>\n",
              "      <td>49</td>\n",
              "    </tr>\n",
              "    <tr>\n",
              "      <th>2</th>\n",
              "      <td>5710</td>\n",
              "      <td>8B</td>\n",
              "      <td>Mpesa</td>\n",
              "      <td>EQX8Q5G19O</td>\n",
              "      <td>26-11-17</td>\n",
              "      <td>7:05</td>\n",
              "      <td>Keroka</td>\n",
              "      <td>Nairobi</td>\n",
              "      <td>Bus</td>\n",
              "      <td>49</td>\n",
              "    </tr>\n",
              "    <tr>\n",
              "      <th>3</th>\n",
              "      <td>5777</td>\n",
              "      <td>19A</td>\n",
              "      <td>Mpesa</td>\n",
              "      <td>SGP18CL0ME</td>\n",
              "      <td>27-11-17</td>\n",
              "      <td>7:10</td>\n",
              "      <td>Homa Bay</td>\n",
              "      <td>Nairobi</td>\n",
              "      <td>Bus</td>\n",
              "      <td>49</td>\n",
              "    </tr>\n",
              "    <tr>\n",
              "      <th>4</th>\n",
              "      <td>5778</td>\n",
              "      <td>11A</td>\n",
              "      <td>Mpesa</td>\n",
              "      <td>BM97HFRGL9</td>\n",
              "      <td>27-11-17</td>\n",
              "      <td>7:12</td>\n",
              "      <td>Migori</td>\n",
              "      <td>Nairobi</td>\n",
              "      <td>Bus</td>\n",
              "      <td>49</td>\n",
              "    </tr>\n",
              "  </tbody>\n",
              "</table>\n",
              "</div>\n",
              "      <button class=\"colab-df-convert\" onclick=\"convertToInteractive('df-cc13245c-adb4-4cf4-b30e-cd714b0305d1')\"\n",
              "              title=\"Convert this dataframe to an interactive table.\"\n",
              "              style=\"display:none;\">\n",
              "        \n",
              "  <svg xmlns=\"http://www.w3.org/2000/svg\" height=\"24px\"viewBox=\"0 0 24 24\"\n",
              "       width=\"24px\">\n",
              "    <path d=\"M0 0h24v24H0V0z\" fill=\"none\"/>\n",
              "    <path d=\"M18.56 5.44l.94 2.06.94-2.06 2.06-.94-2.06-.94-.94-2.06-.94 2.06-2.06.94zm-11 1L8.5 8.5l.94-2.06 2.06-.94-2.06-.94L8.5 2.5l-.94 2.06-2.06.94zm10 10l.94 2.06.94-2.06 2.06-.94-2.06-.94-.94-2.06-.94 2.06-2.06.94z\"/><path d=\"M17.41 7.96l-1.37-1.37c-.4-.4-.92-.59-1.43-.59-.52 0-1.04.2-1.43.59L10.3 9.45l-7.72 7.72c-.78.78-.78 2.05 0 2.83L4 21.41c.39.39.9.59 1.41.59.51 0 1.02-.2 1.41-.59l7.78-7.78 2.81-2.81c.8-.78.8-2.07 0-2.86zM5.41 20L4 18.59l7.72-7.72 1.47 1.35L5.41 20z\"/>\n",
              "  </svg>\n",
              "      </button>\n",
              "      \n",
              "  <style>\n",
              "    .colab-df-container {\n",
              "      display:flex;\n",
              "      flex-wrap:wrap;\n",
              "      gap: 12px;\n",
              "    }\n",
              "\n",
              "    .colab-df-convert {\n",
              "      background-color: #E8F0FE;\n",
              "      border: none;\n",
              "      border-radius: 50%;\n",
              "      cursor: pointer;\n",
              "      display: none;\n",
              "      fill: #1967D2;\n",
              "      height: 32px;\n",
              "      padding: 0 0 0 0;\n",
              "      width: 32px;\n",
              "    }\n",
              "\n",
              "    .colab-df-convert:hover {\n",
              "      background-color: #E2EBFA;\n",
              "      box-shadow: 0px 1px 2px rgba(60, 64, 67, 0.3), 0px 1px 3px 1px rgba(60, 64, 67, 0.15);\n",
              "      fill: #174EA6;\n",
              "    }\n",
              "\n",
              "    [theme=dark] .colab-df-convert {\n",
              "      background-color: #3B4455;\n",
              "      fill: #D2E3FC;\n",
              "    }\n",
              "\n",
              "    [theme=dark] .colab-df-convert:hover {\n",
              "      background-color: #434B5C;\n",
              "      box-shadow: 0px 1px 3px 1px rgba(0, 0, 0, 0.15);\n",
              "      filter: drop-shadow(0px 1px 2px rgba(0, 0, 0, 0.3));\n",
              "      fill: #FFFFFF;\n",
              "    }\n",
              "  </style>\n",
              "\n",
              "      <script>\n",
              "        const buttonEl =\n",
              "          document.querySelector('#df-cc13245c-adb4-4cf4-b30e-cd714b0305d1 button.colab-df-convert');\n",
              "        buttonEl.style.display =\n",
              "          google.colab.kernel.accessAllowed ? 'block' : 'none';\n",
              "\n",
              "        async function convertToInteractive(key) {\n",
              "          const element = document.querySelector('#df-cc13245c-adb4-4cf4-b30e-cd714b0305d1');\n",
              "          const dataTable =\n",
              "            await google.colab.kernel.invokeFunction('convertToInteractive',\n",
              "                                                     [key], {});\n",
              "          if (!dataTable) return;\n",
              "\n",
              "          const docLinkHtml = 'Like what you see? Visit the ' +\n",
              "            '<a target=\"_blank\" href=https://colab.research.google.com/notebooks/data_table.ipynb>data table notebook</a>'\n",
              "            + ' to learn more about interactive tables.';\n",
              "          element.innerHTML = '';\n",
              "          dataTable['output_type'] = 'display_data';\n",
              "          await google.colab.output.renderOutput(dataTable, element);\n",
              "          const docLink = document.createElement('div');\n",
              "          docLink.innerHTML = docLinkHtml;\n",
              "          element.appendChild(docLink);\n",
              "        }\n",
              "      </script>\n",
              "    </div>\n",
              "  </div>\n",
              "  "
            ]
          },
          "metadata": {},
          "execution_count": 5
        }
      ]
    },
    {
      "cell_type": "code",
      "source": [
        "#Shape\n",
        "dataset.shape"
      ],
      "metadata": {
        "colab": {
          "base_uri": "https://localhost:8080/"
        },
        "id": "_ZnoPb-AEbzx",
        "outputId": "30616871-ff4a-47a3-a3fe-a7d143b57bad"
      },
      "execution_count": 6,
      "outputs": [
        {
          "output_type": "execute_result",
          "data": {
            "text/plain": [
              "(51645, 10)"
            ]
          },
          "metadata": {},
          "execution_count": 6
        }
      ]
    },
    {
      "cell_type": "markdown",
      "source": [
        "Since the target Variable is not provided, So we should have to generate it."
      ],
      "metadata": {
        "id": "2fYR9BzVEh6_"
      }
    },
    {
      "cell_type": "code",
      "source": [
        "num_of_seats = dataset.groupby(['ride_id'])['seat_number'].count()"
      ],
      "metadata": {
        "id": "Wt5fpCLvEeVb"
      },
      "execution_count": 7,
      "outputs": []
    },
    {
      "cell_type": "code",
      "source": [
        "num_of_seats = num_of_seats.reset_index().rename(columns= {'seat_number': 'number_of_tickets'})"
      ],
      "metadata": {
        "id": "NZoBd8ucEjvR"
      },
      "execution_count": 8,
      "outputs": []
    },
    {
      "cell_type": "code",
      "source": [
        "dataset = dataset.merge(num_of_seats, how='left', on='ride_id')"
      ],
      "metadata": {
        "id": "4bRYLv22Epjr"
      },
      "execution_count": 9,
      "outputs": []
    },
    {
      "cell_type": "code",
      "source": [
        "dataset.shape"
      ],
      "metadata": {
        "colab": {
          "base_uri": "https://localhost:8080/"
        },
        "id": "2_hr39YaErRc",
        "outputId": "4ff72b7c-f067-40be-fa09-ce9415762c12"
      },
      "execution_count": 10,
      "outputs": [
        {
          "output_type": "execute_result",
          "data": {
            "text/plain": [
              "(51645, 11)"
            ]
          },
          "metadata": {},
          "execution_count": 10
        }
      ]
    },
    {
      "cell_type": "markdown",
      "source": [
        "Now our Data has 11 columns"
      ],
      "metadata": {
        "id": "9ceg9N_PEyPG"
      }
    },
    {
      "cell_type": "code",
      "source": [
        "#getting some information about the variables\n",
        "dataset.info()"
      ],
      "metadata": {
        "colab": {
          "base_uri": "https://localhost:8080/"
        },
        "id": "n2q7lTwPEtAe",
        "outputId": "cacfeaf8-77ae-495e-c855-c3037f080b1c"
      },
      "execution_count": 11,
      "outputs": [
        {
          "output_type": "stream",
          "name": "stdout",
          "text": [
            "<class 'pandas.core.frame.DataFrame'>\n",
            "Int64Index: 51645 entries, 0 to 51644\n",
            "Data columns (total 11 columns):\n",
            " #   Column             Non-Null Count  Dtype \n",
            "---  ------             --------------  ----- \n",
            " 0   ride_id            51645 non-null  int64 \n",
            " 1   seat_number        51645 non-null  object\n",
            " 2   payment_method     51645 non-null  object\n",
            " 3   payment_receipt    51645 non-null  object\n",
            " 4   travel_date        51645 non-null  object\n",
            " 5   travel_time        51645 non-null  object\n",
            " 6   travel_from        51645 non-null  object\n",
            " 7   travel_to          51645 non-null  object\n",
            " 8   car_type           51645 non-null  object\n",
            " 9   max_capacity       51645 non-null  int64 \n",
            " 10  number_of_tickets  51645 non-null  int64 \n",
            "dtypes: int64(3), object(8)\n",
            "memory usage: 4.7+ MB\n"
          ]
        }
      ]
    },
    {
      "cell_type": "code",
      "source": [
        "dataset.isna().sum()"
      ],
      "metadata": {
        "colab": {
          "base_uri": "https://localhost:8080/"
        },
        "id": "-IiVnLn_E31p",
        "outputId": "75aa85ff-b91b-4185-d45c-dc67245a9862"
      },
      "execution_count": 12,
      "outputs": [
        {
          "output_type": "execute_result",
          "data": {
            "text/plain": [
              "ride_id              0\n",
              "seat_number          0\n",
              "payment_method       0\n",
              "payment_receipt      0\n",
              "travel_date          0\n",
              "travel_time          0\n",
              "travel_from          0\n",
              "travel_to            0\n",
              "car_type             0\n",
              "max_capacity         0\n",
              "number_of_tickets    0\n",
              "dtype: int64"
            ]
          },
          "metadata": {},
          "execution_count": 12
        }
      ]
    },
    {
      "cell_type": "markdown",
      "source": [
        "I remove 'payment_receipt' to find to find duplicated values"
      ],
      "metadata": {
        "id": "LPV79Q_yE-G1"
      }
    },
    {
      "cell_type": "code",
      "source": [
        "dataset = dataset.drop('payment_receipt', axis=1)"
      ],
      "metadata": {
        "id": "H3L1ua-FE6sF"
      },
      "execution_count": 13,
      "outputs": []
    },
    {
      "cell_type": "code",
      "source": [
        "dataset.duplicated().sum()"
      ],
      "metadata": {
        "colab": {
          "base_uri": "https://localhost:8080/"
        },
        "id": "lnpNphb-E_zR",
        "outputId": "bc3665f0-0a21-4707-ec5f-4c5d13b59add"
      },
      "execution_count": 14,
      "outputs": [
        {
          "output_type": "execute_result",
          "data": {
            "text/plain": [
              "169"
            ]
          },
          "metadata": {},
          "execution_count": 14
        }
      ]
    },
    {
      "cell_type": "code",
      "source": [
        "dataset = dataset.drop_duplicates()"
      ],
      "metadata": {
        "id": "jrZEgZjwFBMq"
      },
      "execution_count": 15,
      "outputs": []
    },
    {
      "cell_type": "markdown",
      "source": [
        "Since there are No null and duplicate Observations"
      ],
      "metadata": {
        "id": "6jc5WBV0FHLT"
      }
    },
    {
      "cell_type": "markdown",
      "source": [
        "####**Feature Engineering**\n",
        "\n",
        "---\n",
        "\n",
        "I generate two new varibles travel_day, travel_month to identify the traveling time on the monthaly & daily basses.\n",
        "And i also convert traveling time in hours to minutes.\n",
        "\n",
        "\n",
        "*   After creating travel_month and travel_day i drop travel_date.\n",
        "\n",
        "\n"
      ],
      "metadata": {
        "id": "IujVV5b7FxZG"
      }
    },
    {
      "cell_type": "code",
      "source": [
        "dataset['travel_month'] = dataset['travel_date'].apply(lambda x: pd.Timestamp(x).month_name())"
      ],
      "metadata": {
        "id": "07OdWlWoFxso"
      },
      "execution_count": 16,
      "outputs": []
    },
    {
      "cell_type": "code",
      "source": [
        "dataset['travel_day'] = dataset['travel_date'].apply(lambda x: pd.Timestamp(x).day_name())"
      ],
      "metadata": {
        "id": "oZBPdaDqFzxs"
      },
      "execution_count": 17,
      "outputs": []
    },
    {
      "cell_type": "code",
      "source": [
        "def hr_to_min(x):\n",
        "  date = pd.Timestamp(x)\n",
        "  hm = date.hour*60\n",
        "  min = date.minute\n",
        "  total_min = hm + min\n",
        "  return total_min"
      ],
      "metadata": {
        "id": "JjAxvqU5F1sd"
      },
      "execution_count": 18,
      "outputs": []
    },
    {
      "cell_type": "code",
      "source": [
        "dataset['travel_time'] = dataset['travel_time'].apply(lambda x: hr_to_min(x))"
      ],
      "metadata": {
        "id": "ePWfUYE7F3XQ"
      },
      "execution_count": 19,
      "outputs": []
    },
    {
      "cell_type": "code",
      "source": [
        "dataset = dataset.drop(['travel_date'], axis=1)"
      ],
      "metadata": {
        "id": "9ZNyscQpF71f"
      },
      "execution_count": 20,
      "outputs": []
    },
    {
      "cell_type": "code",
      "source": [
        "dataset.head()"
      ],
      "metadata": {
        "colab": {
          "base_uri": "https://localhost:8080/",
          "height": 206
        },
        "id": "VLlpwFz2F9Z-",
        "outputId": "d088a407-e3ca-4ae5-cc15-224281cdf94d"
      },
      "execution_count": 21,
      "outputs": [
        {
          "output_type": "execute_result",
          "data": {
            "text/plain": [
              "   ride_id seat_number payment_method  travel_time travel_from travel_to  \\\n",
              "0     1442         15A          Mpesa          435      Migori   Nairobi   \n",
              "1     5437         14A          Mpesa          432      Migori   Nairobi   \n",
              "2     5710          8B          Mpesa          425      Keroka   Nairobi   \n",
              "3     5777         19A          Mpesa          430    Homa Bay   Nairobi   \n",
              "4     5778         11A          Mpesa          432      Migori   Nairobi   \n",
              "\n",
              "  car_type  max_capacity  number_of_tickets travel_month travel_day  \n",
              "0      Bus            49                  1      October    Tuesday  \n",
              "1      Bus            49                  1     November     Sunday  \n",
              "2      Bus            49                  1     November     Sunday  \n",
              "3      Bus            49                  5     November     Monday  \n",
              "4      Bus            49                 31     November     Monday  "
            ],
            "text/html": [
              "\n",
              "  <div id=\"df-82cd6deb-58f5-49b9-ac10-4ec3fe37fc1e\">\n",
              "    <div class=\"colab-df-container\">\n",
              "      <div>\n",
              "<style scoped>\n",
              "    .dataframe tbody tr th:only-of-type {\n",
              "        vertical-align: middle;\n",
              "    }\n",
              "\n",
              "    .dataframe tbody tr th {\n",
              "        vertical-align: top;\n",
              "    }\n",
              "\n",
              "    .dataframe thead th {\n",
              "        text-align: right;\n",
              "    }\n",
              "</style>\n",
              "<table border=\"1\" class=\"dataframe\">\n",
              "  <thead>\n",
              "    <tr style=\"text-align: right;\">\n",
              "      <th></th>\n",
              "      <th>ride_id</th>\n",
              "      <th>seat_number</th>\n",
              "      <th>payment_method</th>\n",
              "      <th>travel_time</th>\n",
              "      <th>travel_from</th>\n",
              "      <th>travel_to</th>\n",
              "      <th>car_type</th>\n",
              "      <th>max_capacity</th>\n",
              "      <th>number_of_tickets</th>\n",
              "      <th>travel_month</th>\n",
              "      <th>travel_day</th>\n",
              "    </tr>\n",
              "  </thead>\n",
              "  <tbody>\n",
              "    <tr>\n",
              "      <th>0</th>\n",
              "      <td>1442</td>\n",
              "      <td>15A</td>\n",
              "      <td>Mpesa</td>\n",
              "      <td>435</td>\n",
              "      <td>Migori</td>\n",
              "      <td>Nairobi</td>\n",
              "      <td>Bus</td>\n",
              "      <td>49</td>\n",
              "      <td>1</td>\n",
              "      <td>October</td>\n",
              "      <td>Tuesday</td>\n",
              "    </tr>\n",
              "    <tr>\n",
              "      <th>1</th>\n",
              "      <td>5437</td>\n",
              "      <td>14A</td>\n",
              "      <td>Mpesa</td>\n",
              "      <td>432</td>\n",
              "      <td>Migori</td>\n",
              "      <td>Nairobi</td>\n",
              "      <td>Bus</td>\n",
              "      <td>49</td>\n",
              "      <td>1</td>\n",
              "      <td>November</td>\n",
              "      <td>Sunday</td>\n",
              "    </tr>\n",
              "    <tr>\n",
              "      <th>2</th>\n",
              "      <td>5710</td>\n",
              "      <td>8B</td>\n",
              "      <td>Mpesa</td>\n",
              "      <td>425</td>\n",
              "      <td>Keroka</td>\n",
              "      <td>Nairobi</td>\n",
              "      <td>Bus</td>\n",
              "      <td>49</td>\n",
              "      <td>1</td>\n",
              "      <td>November</td>\n",
              "      <td>Sunday</td>\n",
              "    </tr>\n",
              "    <tr>\n",
              "      <th>3</th>\n",
              "      <td>5777</td>\n",
              "      <td>19A</td>\n",
              "      <td>Mpesa</td>\n",
              "      <td>430</td>\n",
              "      <td>Homa Bay</td>\n",
              "      <td>Nairobi</td>\n",
              "      <td>Bus</td>\n",
              "      <td>49</td>\n",
              "      <td>5</td>\n",
              "      <td>November</td>\n",
              "      <td>Monday</td>\n",
              "    </tr>\n",
              "    <tr>\n",
              "      <th>4</th>\n",
              "      <td>5778</td>\n",
              "      <td>11A</td>\n",
              "      <td>Mpesa</td>\n",
              "      <td>432</td>\n",
              "      <td>Migori</td>\n",
              "      <td>Nairobi</td>\n",
              "      <td>Bus</td>\n",
              "      <td>49</td>\n",
              "      <td>31</td>\n",
              "      <td>November</td>\n",
              "      <td>Monday</td>\n",
              "    </tr>\n",
              "  </tbody>\n",
              "</table>\n",
              "</div>\n",
              "      <button class=\"colab-df-convert\" onclick=\"convertToInteractive('df-82cd6deb-58f5-49b9-ac10-4ec3fe37fc1e')\"\n",
              "              title=\"Convert this dataframe to an interactive table.\"\n",
              "              style=\"display:none;\">\n",
              "        \n",
              "  <svg xmlns=\"http://www.w3.org/2000/svg\" height=\"24px\"viewBox=\"0 0 24 24\"\n",
              "       width=\"24px\">\n",
              "    <path d=\"M0 0h24v24H0V0z\" fill=\"none\"/>\n",
              "    <path d=\"M18.56 5.44l.94 2.06.94-2.06 2.06-.94-2.06-.94-.94-2.06-.94 2.06-2.06.94zm-11 1L8.5 8.5l.94-2.06 2.06-.94-2.06-.94L8.5 2.5l-.94 2.06-2.06.94zm10 10l.94 2.06.94-2.06 2.06-.94-2.06-.94-.94-2.06-.94 2.06-2.06.94z\"/><path d=\"M17.41 7.96l-1.37-1.37c-.4-.4-.92-.59-1.43-.59-.52 0-1.04.2-1.43.59L10.3 9.45l-7.72 7.72c-.78.78-.78 2.05 0 2.83L4 21.41c.39.39.9.59 1.41.59.51 0 1.02-.2 1.41-.59l7.78-7.78 2.81-2.81c.8-.78.8-2.07 0-2.86zM5.41 20L4 18.59l7.72-7.72 1.47 1.35L5.41 20z\"/>\n",
              "  </svg>\n",
              "      </button>\n",
              "      \n",
              "  <style>\n",
              "    .colab-df-container {\n",
              "      display:flex;\n",
              "      flex-wrap:wrap;\n",
              "      gap: 12px;\n",
              "    }\n",
              "\n",
              "    .colab-df-convert {\n",
              "      background-color: #E8F0FE;\n",
              "      border: none;\n",
              "      border-radius: 50%;\n",
              "      cursor: pointer;\n",
              "      display: none;\n",
              "      fill: #1967D2;\n",
              "      height: 32px;\n",
              "      padding: 0 0 0 0;\n",
              "      width: 32px;\n",
              "    }\n",
              "\n",
              "    .colab-df-convert:hover {\n",
              "      background-color: #E2EBFA;\n",
              "      box-shadow: 0px 1px 2px rgba(60, 64, 67, 0.3), 0px 1px 3px 1px rgba(60, 64, 67, 0.15);\n",
              "      fill: #174EA6;\n",
              "    }\n",
              "\n",
              "    [theme=dark] .colab-df-convert {\n",
              "      background-color: #3B4455;\n",
              "      fill: #D2E3FC;\n",
              "    }\n",
              "\n",
              "    [theme=dark] .colab-df-convert:hover {\n",
              "      background-color: #434B5C;\n",
              "      box-shadow: 0px 1px 3px 1px rgba(0, 0, 0, 0.15);\n",
              "      filter: drop-shadow(0px 1px 2px rgba(0, 0, 0, 0.3));\n",
              "      fill: #FFFFFF;\n",
              "    }\n",
              "  </style>\n",
              "\n",
              "      <script>\n",
              "        const buttonEl =\n",
              "          document.querySelector('#df-82cd6deb-58f5-49b9-ac10-4ec3fe37fc1e button.colab-df-convert');\n",
              "        buttonEl.style.display =\n",
              "          google.colab.kernel.accessAllowed ? 'block' : 'none';\n",
              "\n",
              "        async function convertToInteractive(key) {\n",
              "          const element = document.querySelector('#df-82cd6deb-58f5-49b9-ac10-4ec3fe37fc1e');\n",
              "          const dataTable =\n",
              "            await google.colab.kernel.invokeFunction('convertToInteractive',\n",
              "                                                     [key], {});\n",
              "          if (!dataTable) return;\n",
              "\n",
              "          const docLinkHtml = 'Like what you see? Visit the ' +\n",
              "            '<a target=\"_blank\" href=https://colab.research.google.com/notebooks/data_table.ipynb>data table notebook</a>'\n",
              "            + ' to learn more about interactive tables.';\n",
              "          element.innerHTML = '';\n",
              "          dataTable['output_type'] = 'display_data';\n",
              "          await google.colab.output.renderOutput(dataTable, element);\n",
              "          const docLink = document.createElement('div');\n",
              "          docLink.innerHTML = docLinkHtml;\n",
              "          element.appendChild(docLink);\n",
              "        }\n",
              "      </script>\n",
              "    </div>\n",
              "  </div>\n",
              "  "
            ]
          },
          "metadata": {},
          "execution_count": 21
        }
      ]
    },
    {
      "cell_type": "code",
      "source": [
        "dataset['travel_time'] = dataset['travel_time'].apply(lambda x: 'Morning' if x < 720 else ('Afternoon' if x < 960 else 'Evening'))"
      ],
      "metadata": {
        "id": "Rjf9jc2IF-5R"
      },
      "execution_count": 22,
      "outputs": []
    },
    {
      "cell_type": "markdown",
      "source": [
        "#### description of the Data"
      ],
      "metadata": {
        "id": "Xt8w0o5_HDzw"
      }
    },
    {
      "cell_type": "code",
      "source": [
        "dataset.describe(include='all')"
      ],
      "metadata": {
        "colab": {
          "base_uri": "https://localhost:8080/",
          "height": 394
        },
        "id": "_6P7DQCLGDGG",
        "outputId": "e924f2e7-3271-4838-84f7-7b80792092eb"
      },
      "execution_count": 23,
      "outputs": [
        {
          "output_type": "execute_result",
          "data": {
            "text/plain": [
              "             ride_id seat_number payment_method travel_time travel_from  \\\n",
              "count   51476.000000       51476          51476       51476       51476   \n",
              "unique           NaN          61              2           2          17   \n",
              "top              NaN           1          Mpesa     Morning       Kisii   \n",
              "freq             NaN        2064          51364       46623       22587   \n",
              "mean    10187.614655         NaN            NaN         NaN         NaN   \n",
              "std      2211.273736         NaN            NaN         NaN         NaN   \n",
              "min      1442.000000         NaN            NaN         NaN         NaN   \n",
              "25%      8280.750000         NaN            NaN         NaN         NaN   \n",
              "50%     10352.000000         NaN            NaN         NaN         NaN   \n",
              "75%     12029.000000         NaN            NaN         NaN         NaN   \n",
              "max     20117.000000         NaN            NaN         NaN         NaN   \n",
              "\n",
              "       travel_to car_type  max_capacity  number_of_tickets travel_month  \\\n",
              "count      51476    51476  51476.000000       51476.000000        51476   \n",
              "unique         1        2           NaN                NaN           12   \n",
              "top      Nairobi      Bus           NaN                NaN     December   \n",
              "freq       51476    31835           NaN                NaN         9498   \n",
              "mean         NaN      NaN     34.500855          17.274011          NaN   \n",
              "std          NaN      NaN     18.459386          12.380067          NaN   \n",
              "min          NaN      NaN     11.000000           1.000000          NaN   \n",
              "25%          NaN      NaN     11.000000           9.000000          NaN   \n",
              "50%          NaN      NaN     49.000000          11.000000          NaN   \n",
              "75%          NaN      NaN     49.000000          26.000000          NaN   \n",
              "max          NaN      NaN     49.000000          50.000000          NaN   \n",
              "\n",
              "       travel_day  \n",
              "count       51476  \n",
              "unique          7  \n",
              "top     Wednesday  \n",
              "freq         8233  \n",
              "mean          NaN  \n",
              "std           NaN  \n",
              "min           NaN  \n",
              "25%           NaN  \n",
              "50%           NaN  \n",
              "75%           NaN  \n",
              "max           NaN  "
            ],
            "text/html": [
              "\n",
              "  <div id=\"df-e75c4cb5-ca51-4400-be6c-f54802a99d27\">\n",
              "    <div class=\"colab-df-container\">\n",
              "      <div>\n",
              "<style scoped>\n",
              "    .dataframe tbody tr th:only-of-type {\n",
              "        vertical-align: middle;\n",
              "    }\n",
              "\n",
              "    .dataframe tbody tr th {\n",
              "        vertical-align: top;\n",
              "    }\n",
              "\n",
              "    .dataframe thead th {\n",
              "        text-align: right;\n",
              "    }\n",
              "</style>\n",
              "<table border=\"1\" class=\"dataframe\">\n",
              "  <thead>\n",
              "    <tr style=\"text-align: right;\">\n",
              "      <th></th>\n",
              "      <th>ride_id</th>\n",
              "      <th>seat_number</th>\n",
              "      <th>payment_method</th>\n",
              "      <th>travel_time</th>\n",
              "      <th>travel_from</th>\n",
              "      <th>travel_to</th>\n",
              "      <th>car_type</th>\n",
              "      <th>max_capacity</th>\n",
              "      <th>number_of_tickets</th>\n",
              "      <th>travel_month</th>\n",
              "      <th>travel_day</th>\n",
              "    </tr>\n",
              "  </thead>\n",
              "  <tbody>\n",
              "    <tr>\n",
              "      <th>count</th>\n",
              "      <td>51476.000000</td>\n",
              "      <td>51476</td>\n",
              "      <td>51476</td>\n",
              "      <td>51476</td>\n",
              "      <td>51476</td>\n",
              "      <td>51476</td>\n",
              "      <td>51476</td>\n",
              "      <td>51476.000000</td>\n",
              "      <td>51476.000000</td>\n",
              "      <td>51476</td>\n",
              "      <td>51476</td>\n",
              "    </tr>\n",
              "    <tr>\n",
              "      <th>unique</th>\n",
              "      <td>NaN</td>\n",
              "      <td>61</td>\n",
              "      <td>2</td>\n",
              "      <td>2</td>\n",
              "      <td>17</td>\n",
              "      <td>1</td>\n",
              "      <td>2</td>\n",
              "      <td>NaN</td>\n",
              "      <td>NaN</td>\n",
              "      <td>12</td>\n",
              "      <td>7</td>\n",
              "    </tr>\n",
              "    <tr>\n",
              "      <th>top</th>\n",
              "      <td>NaN</td>\n",
              "      <td>1</td>\n",
              "      <td>Mpesa</td>\n",
              "      <td>Morning</td>\n",
              "      <td>Kisii</td>\n",
              "      <td>Nairobi</td>\n",
              "      <td>Bus</td>\n",
              "      <td>NaN</td>\n",
              "      <td>NaN</td>\n",
              "      <td>December</td>\n",
              "      <td>Wednesday</td>\n",
              "    </tr>\n",
              "    <tr>\n",
              "      <th>freq</th>\n",
              "      <td>NaN</td>\n",
              "      <td>2064</td>\n",
              "      <td>51364</td>\n",
              "      <td>46623</td>\n",
              "      <td>22587</td>\n",
              "      <td>51476</td>\n",
              "      <td>31835</td>\n",
              "      <td>NaN</td>\n",
              "      <td>NaN</td>\n",
              "      <td>9498</td>\n",
              "      <td>8233</td>\n",
              "    </tr>\n",
              "    <tr>\n",
              "      <th>mean</th>\n",
              "      <td>10187.614655</td>\n",
              "      <td>NaN</td>\n",
              "      <td>NaN</td>\n",
              "      <td>NaN</td>\n",
              "      <td>NaN</td>\n",
              "      <td>NaN</td>\n",
              "      <td>NaN</td>\n",
              "      <td>34.500855</td>\n",
              "      <td>17.274011</td>\n",
              "      <td>NaN</td>\n",
              "      <td>NaN</td>\n",
              "    </tr>\n",
              "    <tr>\n",
              "      <th>std</th>\n",
              "      <td>2211.273736</td>\n",
              "      <td>NaN</td>\n",
              "      <td>NaN</td>\n",
              "      <td>NaN</td>\n",
              "      <td>NaN</td>\n",
              "      <td>NaN</td>\n",
              "      <td>NaN</td>\n",
              "      <td>18.459386</td>\n",
              "      <td>12.380067</td>\n",
              "      <td>NaN</td>\n",
              "      <td>NaN</td>\n",
              "    </tr>\n",
              "    <tr>\n",
              "      <th>min</th>\n",
              "      <td>1442.000000</td>\n",
              "      <td>NaN</td>\n",
              "      <td>NaN</td>\n",
              "      <td>NaN</td>\n",
              "      <td>NaN</td>\n",
              "      <td>NaN</td>\n",
              "      <td>NaN</td>\n",
              "      <td>11.000000</td>\n",
              "      <td>1.000000</td>\n",
              "      <td>NaN</td>\n",
              "      <td>NaN</td>\n",
              "    </tr>\n",
              "    <tr>\n",
              "      <th>25%</th>\n",
              "      <td>8280.750000</td>\n",
              "      <td>NaN</td>\n",
              "      <td>NaN</td>\n",
              "      <td>NaN</td>\n",
              "      <td>NaN</td>\n",
              "      <td>NaN</td>\n",
              "      <td>NaN</td>\n",
              "      <td>11.000000</td>\n",
              "      <td>9.000000</td>\n",
              "      <td>NaN</td>\n",
              "      <td>NaN</td>\n",
              "    </tr>\n",
              "    <tr>\n",
              "      <th>50%</th>\n",
              "      <td>10352.000000</td>\n",
              "      <td>NaN</td>\n",
              "      <td>NaN</td>\n",
              "      <td>NaN</td>\n",
              "      <td>NaN</td>\n",
              "      <td>NaN</td>\n",
              "      <td>NaN</td>\n",
              "      <td>49.000000</td>\n",
              "      <td>11.000000</td>\n",
              "      <td>NaN</td>\n",
              "      <td>NaN</td>\n",
              "    </tr>\n",
              "    <tr>\n",
              "      <th>75%</th>\n",
              "      <td>12029.000000</td>\n",
              "      <td>NaN</td>\n",
              "      <td>NaN</td>\n",
              "      <td>NaN</td>\n",
              "      <td>NaN</td>\n",
              "      <td>NaN</td>\n",
              "      <td>NaN</td>\n",
              "      <td>49.000000</td>\n",
              "      <td>26.000000</td>\n",
              "      <td>NaN</td>\n",
              "      <td>NaN</td>\n",
              "    </tr>\n",
              "    <tr>\n",
              "      <th>max</th>\n",
              "      <td>20117.000000</td>\n",
              "      <td>NaN</td>\n",
              "      <td>NaN</td>\n",
              "      <td>NaN</td>\n",
              "      <td>NaN</td>\n",
              "      <td>NaN</td>\n",
              "      <td>NaN</td>\n",
              "      <td>49.000000</td>\n",
              "      <td>50.000000</td>\n",
              "      <td>NaN</td>\n",
              "      <td>NaN</td>\n",
              "    </tr>\n",
              "  </tbody>\n",
              "</table>\n",
              "</div>\n",
              "      <button class=\"colab-df-convert\" onclick=\"convertToInteractive('df-e75c4cb5-ca51-4400-be6c-f54802a99d27')\"\n",
              "              title=\"Convert this dataframe to an interactive table.\"\n",
              "              style=\"display:none;\">\n",
              "        \n",
              "  <svg xmlns=\"http://www.w3.org/2000/svg\" height=\"24px\"viewBox=\"0 0 24 24\"\n",
              "       width=\"24px\">\n",
              "    <path d=\"M0 0h24v24H0V0z\" fill=\"none\"/>\n",
              "    <path d=\"M18.56 5.44l.94 2.06.94-2.06 2.06-.94-2.06-.94-.94-2.06-.94 2.06-2.06.94zm-11 1L8.5 8.5l.94-2.06 2.06-.94-2.06-.94L8.5 2.5l-.94 2.06-2.06.94zm10 10l.94 2.06.94-2.06 2.06-.94-2.06-.94-.94-2.06-.94 2.06-2.06.94z\"/><path d=\"M17.41 7.96l-1.37-1.37c-.4-.4-.92-.59-1.43-.59-.52 0-1.04.2-1.43.59L10.3 9.45l-7.72 7.72c-.78.78-.78 2.05 0 2.83L4 21.41c.39.39.9.59 1.41.59.51 0 1.02-.2 1.41-.59l7.78-7.78 2.81-2.81c.8-.78.8-2.07 0-2.86zM5.41 20L4 18.59l7.72-7.72 1.47 1.35L5.41 20z\"/>\n",
              "  </svg>\n",
              "      </button>\n",
              "      \n",
              "  <style>\n",
              "    .colab-df-container {\n",
              "      display:flex;\n",
              "      flex-wrap:wrap;\n",
              "      gap: 12px;\n",
              "    }\n",
              "\n",
              "    .colab-df-convert {\n",
              "      background-color: #E8F0FE;\n",
              "      border: none;\n",
              "      border-radius: 50%;\n",
              "      cursor: pointer;\n",
              "      display: none;\n",
              "      fill: #1967D2;\n",
              "      height: 32px;\n",
              "      padding: 0 0 0 0;\n",
              "      width: 32px;\n",
              "    }\n",
              "\n",
              "    .colab-df-convert:hover {\n",
              "      background-color: #E2EBFA;\n",
              "      box-shadow: 0px 1px 2px rgba(60, 64, 67, 0.3), 0px 1px 3px 1px rgba(60, 64, 67, 0.15);\n",
              "      fill: #174EA6;\n",
              "    }\n",
              "\n",
              "    [theme=dark] .colab-df-convert {\n",
              "      background-color: #3B4455;\n",
              "      fill: #D2E3FC;\n",
              "    }\n",
              "\n",
              "    [theme=dark] .colab-df-convert:hover {\n",
              "      background-color: #434B5C;\n",
              "      box-shadow: 0px 1px 3px 1px rgba(0, 0, 0, 0.15);\n",
              "      filter: drop-shadow(0px 1px 2px rgba(0, 0, 0, 0.3));\n",
              "      fill: #FFFFFF;\n",
              "    }\n",
              "  </style>\n",
              "\n",
              "      <script>\n",
              "        const buttonEl =\n",
              "          document.querySelector('#df-e75c4cb5-ca51-4400-be6c-f54802a99d27 button.colab-df-convert');\n",
              "        buttonEl.style.display =\n",
              "          google.colab.kernel.accessAllowed ? 'block' : 'none';\n",
              "\n",
              "        async function convertToInteractive(key) {\n",
              "          const element = document.querySelector('#df-e75c4cb5-ca51-4400-be6c-f54802a99d27');\n",
              "          const dataTable =\n",
              "            await google.colab.kernel.invokeFunction('convertToInteractive',\n",
              "                                                     [key], {});\n",
              "          if (!dataTable) return;\n",
              "\n",
              "          const docLinkHtml = 'Like what you see? Visit the ' +\n",
              "            '<a target=\"_blank\" href=https://colab.research.google.com/notebooks/data_table.ipynb>data table notebook</a>'\n",
              "            + ' to learn more about interactive tables.';\n",
              "          element.innerHTML = '';\n",
              "          dataTable['output_type'] = 'display_data';\n",
              "          await google.colab.output.renderOutput(dataTable, element);\n",
              "          const docLink = document.createElement('div');\n",
              "          docLink.innerHTML = docLinkHtml;\n",
              "          element.appendChild(docLink);\n",
              "        }\n",
              "      </script>\n",
              "    </div>\n",
              "  </div>\n",
              "  "
            ]
          },
          "metadata": {},
          "execution_count": 23
        }
      ]
    },
    {
      "cell_type": "markdown",
      "source": [
        "####Examin the Data Distribution of target Variable"
      ],
      "metadata": {
        "id": "BeEFXbBDHNgY"
      }
    },
    {
      "cell_type": "code",
      "source": [
        "target_var = dataset['number_of_tickets']"
      ],
      "metadata": {
        "id": "9-SZ1PMqHF9O"
      },
      "execution_count": 25,
      "outputs": []
    },
    {
      "cell_type": "code",
      "source": [
        "plt.figure(figsize=(7,7))\n",
        "sns.distplot(target_var, color='y')\n",
        "plt.show()"
      ],
      "metadata": {
        "colab": {
          "base_uri": "https://localhost:8080/",
          "height": 443
        },
        "id": "kQECo6-FHL3j",
        "outputId": "686ffcfc-3dc7-4fce-9011-0054bdaba71c"
      },
      "execution_count": 26,
      "outputs": [
        {
          "output_type": "display_data",
          "data": {
            "text/plain": [
              "<Figure size 504x504 with 1 Axes>"
            ],
            "image/png": "[encoded data removed]"
          },
          "metadata": {}
        }
      ]
    },
    {
      "cell_type": "markdown",
      "source": [
        "# Exploratory Data Analysis (EDA)"
      ],
      "metadata": {
        "id": "BYe9IqJYISoz"
      }
    },
    {
      "cell_type": "markdown",
      "source": [
        "###First I perform EDA for **Numerical Variables**"
      ],
      "metadata": {
        "id": "s-seBZdzIYgh"
      }
    },
    {
      "cell_type": "code",
      "source": [
        "numerical_feature = dataset.describe().columns\n",
        "numerical_feature"
      ],
      "metadata": {
        "colab": {
          "base_uri": "https://localhost:8080/"
        },
        "id": "7O_tQnDZHWX0",
        "outputId": "8c0286d6-2c88-4afe-a3bb-c4aa46484683"
      },
      "execution_count": 27,
      "outputs": [
        {
          "output_type": "execute_result",
          "data": {
            "text/plain": [
              "Index(['ride_id', 'max_capacity', 'number_of_tickets'], dtype='object')"
            ]
          },
          "metadata": {},
          "execution_count": 27
        }
      ]
    },
    {
      "cell_type": "markdown",
      "source": [
        "####Univariant Analysis"
      ],
      "metadata": {
        "id": "T5-Y5R_sIfpE"
      }
    },
    {
      "cell_type": "code",
      "source": [
        "for col in numerical_feature[1:-1]:\n",
        "  plt.figure(figsize=(7,7))\n",
        "  dataset[col].plot(kind='box')\n",
        "  "
      ],
      "metadata": {
        "colab": {
          "base_uri": "https://localhost:8080/",
          "height": 429
        },
        "id": "b5f5MoMAIbHp",
        "outputId": "99260643-b0b1-43e8-9762-65f37a012e6c"
      },
      "execution_count": 28,
      "outputs": [
        {
          "output_type": "display_data",
          "data": {
            "text/plain": [
              "<Figure size 504x504 with 1 Axes>"
            ],
            "image/png": "[encoded data removed]"
          },
          "metadata": {}
        }
      ]
    },
    {
      "cell_type": "markdown",
      "source": [
        "I draw a box plot of numerical variables to visualize the Outliers. Since there are no outliers."
      ],
      "metadata": {
        "id": "gq7hFFp6Ilhm"
      }
    },
    {
      "cell_type": "markdown",
      "source": [
        "Now I plot distplot of numerical Variables to see their data destribution."
      ],
      "metadata": {
        "id": "wHR4pPMPImY-"
      }
    },
    {
      "cell_type": "code",
      "source": [
        "from pyparsing.helpers import LineStart\n",
        "for col in numerical_feature[1:-1]:\n",
        "  plt.figure(figsize = (7,5))\n",
        "  sns.distplot(dataset[col])\n",
        "  mean = dataset[col].mean()\n",
        "  median = dataset[col].median()\n",
        "  plt.axvline(mean, linestyle='--', color='red')\n",
        "  plt.axvline(median, linestyle='--', color='magenta')"
      ],
      "metadata": {
        "colab": {
          "base_uri": "https://localhost:8080/",
          "height": 335
        },
        "id": "T9Cs9L7YIiEi",
        "outputId": "3f6b70aa-3aac-48bd-961d-f27bf40987db"
      },
      "execution_count": 29,
      "outputs": [
        {
          "output_type": "display_data",
          "data": {
            "text/plain": [
              "<Figure size 504x360 with 1 Axes>"
            ],
            "image/png": "[encoded data removed]"
          },
          "metadata": {}
        }
      ]
    },
    {
      "cell_type": "code",
      "source": [
        "dataset['max_capacity'].unique()"
      ],
      "metadata": {
        "colab": {
          "base_uri": "https://localhost:8080/"
        },
        "id": "_n6jXE6DIuMH",
        "outputId": "757bb54e-f165-4763-d142-7383e28aebe5"
      },
      "execution_count": 30,
      "outputs": [
        {
          "output_type": "execute_result",
          "data": {
            "text/plain": [
              "array([49, 11])"
            ]
          },
          "metadata": {},
          "execution_count": 30
        }
      ]
    },
    {
      "cell_type": "markdown",
      "source": [
        "since 'max_capacity' feature has only two unique values therefore we can consider it as a catagotical feature. "
      ],
      "metadata": {
        "id": "KoZbhmSIIzzc"
      }
    },
    {
      "cell_type": "markdown",
      "source": [
        "###EDA For **Categorical Variabels**"
      ],
      "metadata": {
        "id": "VyoGjX6jJHaG"
      }
    },
    {
      "cell_type": "code",
      "source": [
        "categorical_features = dataset.describe(include = ['object', 'category']).columns\n",
        "categorical_features = np.append(categorical_features, ['max_capacity'], axis=0)\n",
        "categorical_features = np.delete(categorical_features, 2)\n",
        "categorical_features"
      ],
      "metadata": {
        "colab": {
          "base_uri": "https://localhost:8080/"
        },
        "id": "N7VO1DooJIZt",
        "outputId": "f2c7e7e8-3884-4446-e5b4-7e6243d43110"
      },
      "execution_count": 31,
      "outputs": [
        {
          "output_type": "execute_result",
          "data": {
            "text/plain": [
              "array(['seat_number', 'payment_method', 'travel_from', 'travel_to',\n",
              "       'car_type', 'travel_month', 'travel_day', 'max_capacity'],\n",
              "      dtype=object)"
            ]
          },
          "metadata": {},
          "execution_count": 31
        }
      ]
    },
    {
      "cell_type": "markdown",
      "source": [
        "####Univarient Analysis"
      ],
      "metadata": {
        "id": "HrjQhUsSJOEf"
      }
    },
    {
      "cell_type": "code",
      "source": [
        "for col in categorical_features:\n",
        "  count = dataset[col].value_counts()\n",
        "  plt.figure(figsize = (12,5))\n",
        "  count.plot(kind='bar', color='lightsteelblue')\n",
        "  plt.xlabel(col)\n",
        "  plt.ylabel('frequency')\n",
        "  plt.title(f'{col} countplot')\n",
        "\n",
        "plt.show()"
      ],
      "metadata": {
        "colab": {
          "base_uri": "https://localhost:8080/",
          "height": 1000
        },
        "id": "nzNJItIyJKBU",
        "outputId": "d764eed6-0519-4699-fa24-4f0f03ee6d86"
      },
      "execution_count": 32,
      "outputs": [
        {
          "output_type": "display_data",
          "data": {
            "text/plain": [
              "<Figure size 864x360 with 1 Axes>"
            ],
            "image/png": "[encoded data removed]"
          },
          "metadata": {}
        },
        {
          "output_type": "display_data",
          "data": {
            "text/plain": [
              "<Figure size 864x360 with 1 Axes>"
            ],
            "image/png": "[encoded data removed]"
          },
          "metadata": {}
        },
        {
          "output_type": "display_data",
          "data": {
            "text/plain": [
              "<Figure size 864x360 with 1 Axes>"
            ],
            "image/png": "[encoded data removed]"
          },
          "metadata": {}
        },
        {
          "output_type": "display_data",
          "data": {
            "text/plain": [
              "<Figure size 864x360 with 1 Axes>"
            ],
            "image/png": "[encoded data removed]"
          },
          "metadata": {}
        },
        {
          "output_type": "display_data",
          "data": {
            "text/plain": [
              "<Figure size 864x360 with 1 Axes>"
            ],
            "image/png": "[encoded data removed]"
          },
          "metadata": {}
        },
        {
          "output_type": "display_data",
          "data": {
            "text/plain": [
              "<Figure size 864x360 with 1 Axes>"
            ],
            "image/png": "[encoded data removed]"
          },
          "metadata": {}
        },
        {
          "output_type": "display_data",
          "data": {
            "text/plain": [
              "<Figure size 864x360 with 1 Axes>"
            ],
            "image/png": "[encoded data removed]"
          },
          "metadata": {}
        },
        {
          "output_type": "display_data",
          "data": {
            "text/plain": [
              "<Figure size 864x360 with 1 Axes>"
            ],
            "image/png": "[encoded data removed]"
          },
          "metadata": {}
        }
      ]
    },
    {
      "cell_type": "markdown",
      "source": [
        "from the above plots i comes to some conclusions:-\n",
        "\n",
        "\n",
        "*   The route originat from kisii town has more movement as compare to other towns.\n",
        "\n",
        "*   Movement of peoples are linear from May to september. and increase in the months from December to April\n",
        "* The vehicle having 49 seats capacity are more in use as compare to vehicle having 11 seat capacity\n",
        "\n",
        "* there is no ride is happining and the movment of peoples are more at morning as compaire Evening.\n"
      ],
      "metadata": {
        "id": "n_yseLVYJT-q"
      }
    },
    {
      "cell_type": "code",
      "source": [],
      "metadata": {
        "id": "VvQW2p8yJP6z"
      },
      "execution_count": null,
      "outputs": []
    }
  ]
}